{
 "cells": [
  {
   "cell_type": "code",
   "execution_count": 2,
   "metadata": {
    "collapsed": true
   },
   "outputs": [],
   "source": [
    "import pandas as pd\n",
    "import numpy as np\n",
    "from sklearn.preprocessing import label_binarize, MultiLabelBinarizer"
   ]
  },
  {
   "cell_type": "code",
   "execution_count": 19,
   "metadata": {},
   "outputs": [
    {
     "data": {
      "text/html": [
       "<div>\n",
       "<style>\n",
       "    .dataframe thead tr:only-child th {\n",
       "        text-align: right;\n",
       "    }\n",
       "\n",
       "    .dataframe thead th {\n",
       "        text-align: left;\n",
       "    }\n",
       "\n",
       "    .dataframe tbody tr th {\n",
       "        vertical-align: top;\n",
       "    }\n",
       "</style>\n",
       "<table border=\"1\" class=\"dataframe\">\n",
       "  <thead>\n",
       "    <tr style=\"text-align: right;\">\n",
       "      <th></th>\n",
       "      <th>Unnamed: 0</th>\n",
       "      <th>X.ID</th>\n",
       "      <th>Gender</th>\n",
       "      <th>DOB</th>\n",
       "      <th>Lead_Creation_Date</th>\n",
       "      <th>City_Code</th>\n",
       "      <th>City_Category</th>\n",
       "      <th>Employer_Code</th>\n",
       "      <th>Employer_Category1</th>\n",
       "      <th>Employer_Category2</th>\n",
       "      <th>Monthly_Income</th>\n",
       "      <th>Customer_Existing_Primary_Bank_Code</th>\n",
       "      <th>Primary_Bank_Type</th>\n",
       "      <th>Contacted</th>\n",
       "      <th>Source</th>\n",
       "      <th>Source_Category</th>\n",
       "      <th>Existing_EMI</th>\n",
       "      <th>Var1</th>\n",
       "      <th>Approved</th>\n",
       "    </tr>\n",
       "  </thead>\n",
       "  <tbody>\n",
       "    <tr>\n",
       "      <th>0</th>\n",
       "      <td>1</td>\n",
       "      <td>APPC90493171225</td>\n",
       "      <td>Female</td>\n",
       "      <td>23/07/79</td>\n",
       "      <td>15/07/16</td>\n",
       "      <td>C10001</td>\n",
       "      <td>A</td>\n",
       "      <td>COM0044082</td>\n",
       "      <td>A</td>\n",
       "      <td>4</td>\n",
       "      <td>2000.0</td>\n",
       "      <td>B001</td>\n",
       "      <td>P</td>\n",
       "      <td>N</td>\n",
       "      <td>S122</td>\n",
       "      <td>G</td>\n",
       "      <td>0.0</td>\n",
       "      <td>0</td>\n",
       "      <td>0</td>\n",
       "    </tr>\n",
       "    <tr>\n",
       "      <th>1</th>\n",
       "      <td>2</td>\n",
       "      <td>APPD40611263344</td>\n",
       "      <td>Male</td>\n",
       "      <td>07/12/86</td>\n",
       "      <td>04/07/16</td>\n",
       "      <td>C10003</td>\n",
       "      <td>A</td>\n",
       "      <td>COM0000002</td>\n",
       "      <td>C</td>\n",
       "      <td>1</td>\n",
       "      <td>3500.0</td>\n",
       "      <td>B002</td>\n",
       "      <td>P</td>\n",
       "      <td>Y</td>\n",
       "      <td>S122</td>\n",
       "      <td>G</td>\n",
       "      <td>0.0</td>\n",
       "      <td>10</td>\n",
       "      <td>0</td>\n",
       "    </tr>\n",
       "    <tr>\n",
       "      <th>2</th>\n",
       "      <td>3</td>\n",
       "      <td>APPE70289249423</td>\n",
       "      <td>Male</td>\n",
       "      <td>10/12/82</td>\n",
       "      <td>19/07/16</td>\n",
       "      <td>C10125</td>\n",
       "      <td>C</td>\n",
       "      <td>COM0005267</td>\n",
       "      <td>C</td>\n",
       "      <td>4</td>\n",
       "      <td>2250.0</td>\n",
       "      <td>B003</td>\n",
       "      <td>G</td>\n",
       "      <td>Y</td>\n",
       "      <td>S143</td>\n",
       "      <td>B</td>\n",
       "      <td>0.0</td>\n",
       "      <td>0</td>\n",
       "      <td>0</td>\n",
       "    </tr>\n",
       "    <tr>\n",
       "      <th>3</th>\n",
       "      <td>4</td>\n",
       "      <td>APPF80273865537</td>\n",
       "      <td>Male</td>\n",
       "      <td>30/01/89</td>\n",
       "      <td>09/07/16</td>\n",
       "      <td>C10477</td>\n",
       "      <td>C</td>\n",
       "      <td>COM0004143</td>\n",
       "      <td>A</td>\n",
       "      <td>4</td>\n",
       "      <td>3500.0</td>\n",
       "      <td>B003</td>\n",
       "      <td>G</td>\n",
       "      <td>Y</td>\n",
       "      <td>S143</td>\n",
       "      <td>B</td>\n",
       "      <td>0.0</td>\n",
       "      <td>7</td>\n",
       "      <td>0</td>\n",
       "    </tr>\n",
       "    <tr>\n",
       "      <th>4</th>\n",
       "      <td>5</td>\n",
       "      <td>APPG60994436641</td>\n",
       "      <td>Male</td>\n",
       "      <td>19/04/85</td>\n",
       "      <td>20/07/16</td>\n",
       "      <td>C10002</td>\n",
       "      <td>A</td>\n",
       "      <td>COM0001781</td>\n",
       "      <td>A</td>\n",
       "      <td>4</td>\n",
       "      <td>10000.0</td>\n",
       "      <td>B001</td>\n",
       "      <td>P</td>\n",
       "      <td>Y</td>\n",
       "      <td>S134</td>\n",
       "      <td>B</td>\n",
       "      <td>2500.0</td>\n",
       "      <td>10</td>\n",
       "      <td>0</td>\n",
       "    </tr>\n",
       "  </tbody>\n",
       "</table>\n",
       "</div>"
      ],
      "text/plain": [
       "   Unnamed: 0             X.ID  Gender       DOB Lead_Creation_Date City_Code  \\\n",
       "0           1  APPC90493171225  Female  23/07/79           15/07/16    C10001   \n",
       "1           2  APPD40611263344    Male  07/12/86           04/07/16    C10003   \n",
       "2           3  APPE70289249423    Male  10/12/82           19/07/16    C10125   \n",
       "3           4  APPF80273865537    Male  30/01/89           09/07/16    C10477   \n",
       "4           5  APPG60994436641    Male  19/04/85           20/07/16    C10002   \n",
       "\n",
       "  City_Category Employer_Code Employer_Category1  Employer_Category2  \\\n",
       "0             A    COM0044082                  A                   4   \n",
       "1             A    COM0000002                  C                   1   \n",
       "2             C    COM0005267                  C                   4   \n",
       "3             C    COM0004143                  A                   4   \n",
       "4             A    COM0001781                  A                   4   \n",
       "\n",
       "   Monthly_Income Customer_Existing_Primary_Bank_Code Primary_Bank_Type  \\\n",
       "0          2000.0                                B001                 P   \n",
       "1          3500.0                                B002                 P   \n",
       "2          2250.0                                B003                 G   \n",
       "3          3500.0                                B003                 G   \n",
       "4         10000.0                                B001                 P   \n",
       "\n",
       "  Contacted Source Source_Category  Existing_EMI  Var1  Approved  \n",
       "0         N   S122               G           0.0     0         0  \n",
       "1         Y   S122               G           0.0    10         0  \n",
       "2         Y   S143               B           0.0     0         0  \n",
       "3         Y   S143               B           0.0     7         0  \n",
       "4         Y   S134               B        2500.0    10         0  "
      ]
     },
     "execution_count": 19,
     "metadata": {},
     "output_type": "execute_result"
    }
   ],
   "source": [
    "dev = pd.read_csv('data_clean.csv')\n",
    "dev.head()"
   ]
  },
  {
   "cell_type": "code",
   "execution_count": 20,
   "metadata": {
    "collapsed": true
   },
   "outputs": [],
   "source": [
    "dev = dev.dropna()"
   ]
  },
  {
   "cell_type": "code",
   "execution_count": 157,
   "metadata": {},
   "outputs": [
    {
     "data": {
      "text/plain": [
       "(59546, 13)"
      ]
     },
     "execution_count": 157,
     "metadata": {},
     "output_type": "execute_result"
    }
   ],
   "source": [
    "dev.shape"
   ]
  },
  {
   "cell_type": "markdown",
   "metadata": {},
   "source": [
    "## Data exploration"
   ]
  },
  {
   "cell_type": "code",
   "execution_count": 21,
   "metadata": {},
   "outputs": [
    {
     "data": {
      "text/plain": [
       "991"
      ]
     },
     "execution_count": 21,
     "metadata": {},
     "output_type": "execute_result"
    }
   ],
   "source": [
    "np.count_nonzero(dev['Approved'])\n",
    "# 991 '1' exist "
   ]
  },
  {
   "cell_type": "code",
   "execution_count": 22,
   "metadata": {},
   "outputs": [
    {
     "data": {
      "image/png": "[encoded data removed]",
      "text/plain": [
       "<matplotlib.figure.Figure at 0x1c938c70438>"
      ]
     },
     "metadata": {},
     "output_type": "display_data"
    }
   ],
   "source": [
    "import seaborn as snb\n",
    "import matplotlib.pyplot as plt\n",
    "snb.countplot(x='Approved', data= dev, palette = 'hls')\n",
    "plt.show()"
   ]
  },
  {
   "cell_type": "code",
   "execution_count": 23,
   "metadata": {},
   "outputs": [
    {
     "data": {
      "text/html": [
       "<div>\n",
       "<style>\n",
       "    .dataframe thead tr:only-child th {\n",
       "        text-align: right;\n",
       "    }\n",
       "\n",
       "    .dataframe thead th {\n",
       "        text-align: left;\n",
       "    }\n",
       "\n",
       "    .dataframe tbody tr th {\n",
       "        vertical-align: top;\n",
       "    }\n",
       "</style>\n",
       "<table border=\"1\" class=\"dataframe\">\n",
       "  <thead>\n",
       "    <tr style=\"text-align: right;\">\n",
       "      <th></th>\n",
       "      <th>Unnamed: 0</th>\n",
       "      <th>Employer_Category2</th>\n",
       "      <th>Monthly_Income</th>\n",
       "      <th>Existing_EMI</th>\n",
       "      <th>Var1</th>\n",
       "    </tr>\n",
       "    <tr>\n",
       "      <th>Approved</th>\n",
       "      <th></th>\n",
       "      <th></th>\n",
       "      <th></th>\n",
       "      <th></th>\n",
       "      <th></th>\n",
       "    </tr>\n",
       "  </thead>\n",
       "  <tbody>\n",
       "    <tr>\n",
       "      <th>0</th>\n",
       "      <td>33527.668722</td>\n",
       "      <td>3.703356</td>\n",
       "      <td>5600.020164</td>\n",
       "      <td>371.986791</td>\n",
       "      <td>4.237213</td>\n",
       "    </tr>\n",
       "    <tr>\n",
       "      <th>1</th>\n",
       "      <td>33850.778002</td>\n",
       "      <td>3.592331</td>\n",
       "      <td>6340.305247</td>\n",
       "      <td>894.491221</td>\n",
       "      <td>7.486377</td>\n",
       "    </tr>\n",
       "  </tbody>\n",
       "</table>\n",
       "</div>"
      ],
      "text/plain": [
       "            Unnamed: 0  Employer_Category2  Monthly_Income  Existing_EMI  \\\n",
       "Approved                                                                   \n",
       "0         33527.668722            3.703356     5600.020164    371.986791   \n",
       "1         33850.778002            3.592331     6340.305247    894.491221   \n",
       "\n",
       "              Var1  \n",
       "Approved            \n",
       "0         4.237213  \n",
       "1         7.486377  "
      ]
     },
     "execution_count": 23,
     "metadata": {},
     "output_type": "execute_result"
    }
   ],
   "source": [
    "dev.groupby('Approved').mean()\n",
    "# average montly income of conversiable customers HIGHER than NONE- conversible and Existing_EMI, var1 are also higher"
   ]
  },
  {
   "cell_type": "code",
   "execution_count": 24,
   "metadata": {
    "scrolled": true
   },
   "outputs": [
    {
     "data": {
      "text/html": [
       "<div>\n",
       "<style>\n",
       "    .dataframe thead tr:only-child th {\n",
       "        text-align: right;\n",
       "    }\n",
       "\n",
       "    .dataframe thead th {\n",
       "        text-align: left;\n",
       "    }\n",
       "\n",
       "    .dataframe tbody tr th {\n",
       "        vertical-align: top;\n",
       "    }\n",
       "</style>\n",
       "<table border=\"1\" class=\"dataframe\">\n",
       "  <thead>\n",
       "    <tr style=\"text-align: right;\">\n",
       "      <th></th>\n",
       "      <th>Unnamed: 0</th>\n",
       "      <th>Employer_Category2</th>\n",
       "      <th>Monthly_Income</th>\n",
       "      <th>Existing_EMI</th>\n",
       "      <th>Var1</th>\n",
       "      <th>Approved</th>\n",
       "    </tr>\n",
       "    <tr>\n",
       "      <th>Source</th>\n",
       "      <th></th>\n",
       "      <th></th>\n",
       "      <th></th>\n",
       "      <th></th>\n",
       "      <th></th>\n",
       "      <th></th>\n",
       "    </tr>\n",
       "  </thead>\n",
       "  <tbody>\n",
       "    <tr>\n",
       "      <th>S122</th>\n",
       "      <td>51295.784028</td>\n",
       "      <td>3.663922</td>\n",
       "      <td>6698.424176</td>\n",
       "      <td>374.603262</td>\n",
       "      <td>4.207322</td>\n",
       "      <td>0.018638</td>\n",
       "    </tr>\n",
       "    <tr>\n",
       "      <th>S123</th>\n",
       "      <td>14702.862069</td>\n",
       "      <td>3.793103</td>\n",
       "      <td>3982.168966</td>\n",
       "      <td>431.513793</td>\n",
       "      <td>6.137931</td>\n",
       "      <td>0.000000</td>\n",
       "    </tr>\n",
       "    <tr>\n",
       "      <th>S124</th>\n",
       "      <td>15203.428571</td>\n",
       "      <td>3.785714</td>\n",
       "      <td>4590.685714</td>\n",
       "      <td>1708.992857</td>\n",
       "      <td>3.000000</td>\n",
       "      <td>0.000000</td>\n",
       "    </tr>\n",
       "    <tr>\n",
       "      <th>S127</th>\n",
       "      <td>26248.164897</td>\n",
       "      <td>3.767870</td>\n",
       "      <td>7226.225973</td>\n",
       "      <td>330.817481</td>\n",
       "      <td>3.702052</td>\n",
       "      <td>0.008493</td>\n",
       "    </tr>\n",
       "    <tr>\n",
       "      <th>S129</th>\n",
       "      <td>19077.333333</td>\n",
       "      <td>4.000000</td>\n",
       "      <td>4300.000000</td>\n",
       "      <td>673.333333</td>\n",
       "      <td>4.666667</td>\n",
       "      <td>0.000000</td>\n",
       "    </tr>\n",
       "    <tr>\n",
       "      <th>S130</th>\n",
       "      <td>21361.000000</td>\n",
       "      <td>1.000000</td>\n",
       "      <td>2500.000000</td>\n",
       "      <td>0.000000</td>\n",
       "      <td>7.000000</td>\n",
       "      <td>0.000000</td>\n",
       "    </tr>\n",
       "    <tr>\n",
       "      <th>S133</th>\n",
       "      <td>19858.401896</td>\n",
       "      <td>3.723331</td>\n",
       "      <td>4171.649764</td>\n",
       "      <td>392.767673</td>\n",
       "      <td>4.314133</td>\n",
       "      <td>0.017280</td>\n",
       "    </tr>\n",
       "    <tr>\n",
       "      <th>S134</th>\n",
       "      <td>22239.912155</td>\n",
       "      <td>3.734423</td>\n",
       "      <td>4301.798366</td>\n",
       "      <td>361.034934</td>\n",
       "      <td>4.811032</td>\n",
       "      <td>0.039837</td>\n",
       "    </tr>\n",
       "    <tr>\n",
       "      <th>S135</th>\n",
       "      <td>42457.500000</td>\n",
       "      <td>2.500000</td>\n",
       "      <td>20700.000000</td>\n",
       "      <td>3500.000000</td>\n",
       "      <td>10.000000</td>\n",
       "      <td>0.000000</td>\n",
       "    </tr>\n",
       "    <tr>\n",
       "      <th>S136</th>\n",
       "      <td>20251.000000</td>\n",
       "      <td>4.000000</td>\n",
       "      <td>10000.000000</td>\n",
       "      <td>3533.533333</td>\n",
       "      <td>2.333333</td>\n",
       "      <td>0.000000</td>\n",
       "    </tr>\n",
       "    <tr>\n",
       "      <th>S137</th>\n",
       "      <td>22044.492636</td>\n",
       "      <td>3.597202</td>\n",
       "      <td>5776.857658</td>\n",
       "      <td>374.386966</td>\n",
       "      <td>8.302651</td>\n",
       "      <td>0.000736</td>\n",
       "    </tr>\n",
       "    <tr>\n",
       "      <th>S138</th>\n",
       "      <td>28375.500000</td>\n",
       "      <td>4.000000</td>\n",
       "      <td>1229.500000</td>\n",
       "      <td>0.000000</td>\n",
       "      <td>1.000000</td>\n",
       "      <td>0.000000</td>\n",
       "    </tr>\n",
       "    <tr>\n",
       "      <th>S139</th>\n",
       "      <td>6035.000000</td>\n",
       "      <td>4.000000</td>\n",
       "      <td>1200.000000</td>\n",
       "      <td>0.000000</td>\n",
       "      <td>0.000000</td>\n",
       "      <td>0.000000</td>\n",
       "    </tr>\n",
       "    <tr>\n",
       "      <th>S141</th>\n",
       "      <td>31255.682927</td>\n",
       "      <td>3.902439</td>\n",
       "      <td>2629.429268</td>\n",
       "      <td>287.431707</td>\n",
       "      <td>3.487805</td>\n",
       "      <td>0.024390</td>\n",
       "    </tr>\n",
       "    <tr>\n",
       "      <th>S143</th>\n",
       "      <td>23066.667175</td>\n",
       "      <td>3.605247</td>\n",
       "      <td>4364.825991</td>\n",
       "      <td>441.778218</td>\n",
       "      <td>5.237340</td>\n",
       "      <td>0.021354</td>\n",
       "    </tr>\n",
       "    <tr>\n",
       "      <th>S144</th>\n",
       "      <td>12382.437811</td>\n",
       "      <td>3.850746</td>\n",
       "      <td>2846.158209</td>\n",
       "      <td>324.972139</td>\n",
       "      <td>3.472637</td>\n",
       "      <td>0.004975</td>\n",
       "    </tr>\n",
       "    <tr>\n",
       "      <th>S150</th>\n",
       "      <td>39991.714286</td>\n",
       "      <td>4.000000</td>\n",
       "      <td>16428.571429</td>\n",
       "      <td>1071.428571</td>\n",
       "      <td>10.000000</td>\n",
       "      <td>0.000000</td>\n",
       "    </tr>\n",
       "    <tr>\n",
       "      <th>S151</th>\n",
       "      <td>23579.224790</td>\n",
       "      <td>3.842437</td>\n",
       "      <td>3729.281933</td>\n",
       "      <td>459.441282</td>\n",
       "      <td>3.768908</td>\n",
       "      <td>0.006303</td>\n",
       "    </tr>\n",
       "    <tr>\n",
       "      <th>S153</th>\n",
       "      <td>24474.647541</td>\n",
       "      <td>3.806011</td>\n",
       "      <td>2322.791257</td>\n",
       "      <td>113.847814</td>\n",
       "      <td>2.177596</td>\n",
       "      <td>0.002732</td>\n",
       "    </tr>\n",
       "    <tr>\n",
       "      <th>S154</th>\n",
       "      <td>6240.000000</td>\n",
       "      <td>4.000000</td>\n",
       "      <td>1500.000000</td>\n",
       "      <td>210.000000</td>\n",
       "      <td>2.000000</td>\n",
       "      <td>0.000000</td>\n",
       "    </tr>\n",
       "    <tr>\n",
       "      <th>S155</th>\n",
       "      <td>27650.666667</td>\n",
       "      <td>4.000000</td>\n",
       "      <td>9333.333333</td>\n",
       "      <td>4766.666667</td>\n",
       "      <td>0.000000</td>\n",
       "      <td>0.000000</td>\n",
       "    </tr>\n",
       "    <tr>\n",
       "      <th>S156</th>\n",
       "      <td>23152.052174</td>\n",
       "      <td>3.878261</td>\n",
       "      <td>4334.124348</td>\n",
       "      <td>319.167391</td>\n",
       "      <td>6.360870</td>\n",
       "      <td>0.000000</td>\n",
       "    </tr>\n",
       "    <tr>\n",
       "      <th>S157</th>\n",
       "      <td>29567.806846</td>\n",
       "      <td>3.887531</td>\n",
       "      <td>56843.482152</td>\n",
       "      <td>604.402445</td>\n",
       "      <td>3.180929</td>\n",
       "      <td>0.007335</td>\n",
       "    </tr>\n",
       "    <tr>\n",
       "      <th>S158</th>\n",
       "      <td>32963.632653</td>\n",
       "      <td>3.918367</td>\n",
       "      <td>5738.502041</td>\n",
       "      <td>1849.181633</td>\n",
       "      <td>4.197279</td>\n",
       "      <td>0.006803</td>\n",
       "    </tr>\n",
       "    <tr>\n",
       "      <th>S159</th>\n",
       "      <td>26026.607296</td>\n",
       "      <td>3.800503</td>\n",
       "      <td>3495.455975</td>\n",
       "      <td>248.741686</td>\n",
       "      <td>2.912453</td>\n",
       "      <td>0.007547</td>\n",
       "    </tr>\n",
       "    <tr>\n",
       "      <th>S160</th>\n",
       "      <td>42008.142857</td>\n",
       "      <td>4.000000</td>\n",
       "      <td>2380.000000</td>\n",
       "      <td>242.857143</td>\n",
       "      <td>3.285714</td>\n",
       "      <td>0.000000</td>\n",
       "    </tr>\n",
       "    <tr>\n",
       "      <th>S161</th>\n",
       "      <td>25853.129204</td>\n",
       "      <td>3.810619</td>\n",
       "      <td>3856.057345</td>\n",
       "      <td>431.428673</td>\n",
       "      <td>4.076106</td>\n",
       "      <td>0.003540</td>\n",
       "    </tr>\n",
       "    <tr>\n",
       "      <th>S162</th>\n",
       "      <td>26177.137931</td>\n",
       "      <td>3.448276</td>\n",
       "      <td>11716.751724</td>\n",
       "      <td>425.672414</td>\n",
       "      <td>3.931034</td>\n",
       "      <td>0.000000</td>\n",
       "    </tr>\n",
       "  </tbody>\n",
       "</table>\n",
       "</div>"
      ],
      "text/plain": [
       "          Unnamed: 0  Employer_Category2  Monthly_Income  Existing_EMI  \\\n",
       "Source                                                                   \n",
       "S122    51295.784028            3.663922     6698.424176    374.603262   \n",
       "S123    14702.862069            3.793103     3982.168966    431.513793   \n",
       "S124    15203.428571            3.785714     4590.685714   1708.992857   \n",
       "S127    26248.164897            3.767870     7226.225973    330.817481   \n",
       "S129    19077.333333            4.000000     4300.000000    673.333333   \n",
       "S130    21361.000000            1.000000     2500.000000      0.000000   \n",
       "S133    19858.401896            3.723331     4171.649764    392.767673   \n",
       "S134    22239.912155            3.734423     4301.798366    361.034934   \n",
       "S135    42457.500000            2.500000    20700.000000   3500.000000   \n",
       "S136    20251.000000            4.000000    10000.000000   3533.533333   \n",
       "S137    22044.492636            3.597202     5776.857658    374.386966   \n",
       "S138    28375.500000            4.000000     1229.500000      0.000000   \n",
       "S139     6035.000000            4.000000     1200.000000      0.000000   \n",
       "S141    31255.682927            3.902439     2629.429268    287.431707   \n",
       "S143    23066.667175            3.605247     4364.825991    441.778218   \n",
       "S144    12382.437811            3.850746     2846.158209    324.972139   \n",
       "S150    39991.714286            4.000000    16428.571429   1071.428571   \n",
       "S151    23579.224790            3.842437     3729.281933    459.441282   \n",
       "S153    24474.647541            3.806011     2322.791257    113.847814   \n",
       "S154     6240.000000            4.000000     1500.000000    210.000000   \n",
       "S155    27650.666667            4.000000     9333.333333   4766.666667   \n",
       "S156    23152.052174            3.878261     4334.124348    319.167391   \n",
       "S157    29567.806846            3.887531    56843.482152    604.402445   \n",
       "S158    32963.632653            3.918367     5738.502041   1849.181633   \n",
       "S159    26026.607296            3.800503     3495.455975    248.741686   \n",
       "S160    42008.142857            4.000000     2380.000000    242.857143   \n",
       "S161    25853.129204            3.810619     3856.057345    431.428673   \n",
       "S162    26177.137931            3.448276    11716.751724    425.672414   \n",
       "\n",
       "             Var1  Approved  \n",
       "Source                       \n",
       "S122     4.207322  0.018638  \n",
       "S123     6.137931  0.000000  \n",
       "S124     3.000000  0.000000  \n",
       "S127     3.702052  0.008493  \n",
       "S129     4.666667  0.000000  \n",
       "S130     7.000000  0.000000  \n",
       "S133     4.314133  0.017280  \n",
       "S134     4.811032  0.039837  \n",
       "S135    10.000000  0.000000  \n",
       "S136     2.333333  0.000000  \n",
       "S137     8.302651  0.000736  \n",
       "S138     1.000000  0.000000  \n",
       "S139     0.000000  0.000000  \n",
       "S141     3.487805  0.024390  \n",
       "S143     5.237340  0.021354  \n",
       "S144     3.472637  0.004975  \n",
       "S150    10.000000  0.000000  \n",
       "S151     3.768908  0.006303  \n",
       "S153     2.177596  0.002732  \n",
       "S154     2.000000  0.000000  \n",
       "S155     0.000000  0.000000  \n",
       "S156     6.360870  0.000000  \n",
       "S157     3.180929  0.007335  \n",
       "S158     4.197279  0.006803  \n",
       "S159     2.912453  0.007547  \n",
       "S160     3.285714  0.000000  \n",
       "S161     4.076106  0.003540  \n",
       "S162     3.931034  0.000000  "
      ]
     },
     "execution_count": 24,
     "metadata": {},
     "output_type": "execute_result"
    }
   ],
   "source": [
    "dev.groupby('Source').mean()"
   ]
  },
  {
   "cell_type": "code",
   "execution_count": 25,
   "metadata": {},
   "outputs": [
    {
     "data": {
      "image/png": "[encoded data removed]",
      "text/plain": [
       "<matplotlib.figure.Figure at 0x1c93e89e518>"
      ]
     },
     "metadata": {},
     "output_type": "display_data"
    }
   ],
   "source": [
    "snb.countplot(x='Source_Category', data= dev, palette = 'hls')\n",
    "snb.set_style('ticks')\n",
    "snb.set(rc={'figure.figsize':(10.7,7.97)})\n",
    "plt.show()\n",
    "# more observations belongs to sourcess s122 and s133"
   ]
  },
  {
   "cell_type": "code",
   "execution_count": 26,
   "metadata": {},
   "outputs": [
    {
     "data": {
      "image/png": "[encoded data removed]",
      "text/plain": [
       "<matplotlib.figure.Figure at 0x1c9419d3d30>"
      ]
     },
     "metadata": {},
     "output_type": "display_data"
    }
   ],
   "source": [
    "%matplotlib inline\n",
    "pd.crosstab(dev.City_Category,dev.Approved).plot(kind='bar')\n",
    "plt.title('Convertible Frequency for City_Category')\n",
    "plt.xlabel('City_Category')\n",
    "plt.ylabel('Frequency of Approved')\n",
    "snb.set(rc={'figure.figsize':(10.7,7.97)})\n",
    "\n",
    "# A large number of customers belong to City_Cateogy A while, percentage of convertible is very low compared to other categories"
   ]
  },
  {
   "cell_type": "code",
   "execution_count": 27,
   "metadata": {},
   "outputs": [
    {
     "data": {
      "text/plain": [
       "Text(0,0.5,'Frequency of Employer_Category')"
      ]
     },
     "execution_count": 27,
     "metadata": {},
     "output_type": "execute_result"
    },
    {
     "data": {
      "image/png": "[encoded data removed]",
      "text/plain": [
       "<matplotlib.figure.Figure at 0x1c941820240>"
      ]
     },
     "metadata": {},
     "output_type": "display_data"
    }
   ],
   "source": [
    "pd.crosstab(dev.Employer_Category1,dev.Employer_Category2).plot(kind='bar')\n",
    "plt.title('Convertible Frequency for Employer_Category1 vs. Employer_Categoty2')\n",
    "plt.xlabel('Employer_Category1')\n",
    "plt.ylabel('Frequency of Employer_Category')\n",
    "\n",
    "# Each Employer_category has good shares of Employer_Category2 "
   ]
  },
  {
   "cell_type": "code",
   "execution_count": 28,
   "metadata": {},
   "outputs": [
    {
     "data": {
      "text/plain": [
       "Text(0,0.5,'Frequency of Approved')"
      ]
     },
     "execution_count": 28,
     "metadata": {},
     "output_type": "execute_result"
    },
    {
     "data": {
      "image/png": "[encoded data removed]",
      "text/plain": [
       "<matplotlib.figure.Figure at 0x1c9418a9470>"
      ]
     },
     "metadata": {},
     "output_type": "display_data"
    }
   ],
   "source": [
    "pd.crosstab(dev.Employer_Category1,dev.Approved).plot(kind='bar')\n",
    "plt.title('Convertible Frequency for Employer_Category1')\n",
    "plt.xlabel('Employer_Category1')\n",
    "plt.ylabel('Frequency of Approved')\n",
    "#snb.set(rc={'figure.figsize':(10.7,7.97)})\n",
    "\n",
    "# Each Employer_Category 1 has good share of convertible cutomers"
   ]
  },
  {
   "cell_type": "code",
   "execution_count": 29,
   "metadata": {},
   "outputs": [
    {
     "data": {
      "text/plain": [
       "Text(0,0.5,'Frequency of Approved')"
      ]
     },
     "execution_count": 29,
     "metadata": {},
     "output_type": "execute_result"
    },
    {
     "data": {
      "image/png": "[encoded data removed]",
      "text/plain": [
       "<matplotlib.figure.Figure at 0x1c941ad6898>"
      ]
     },
     "metadata": {},
     "output_type": "display_data"
    }
   ],
   "source": [
    "pd.crosstab(dev.Employer_Category2,dev.Approved).plot(kind='bar')\n",
    "plt.title('Convertible Frequency for Employer_Category2')\n",
    "plt.xlabel('Employer_Category2')\n",
    "plt.ylabel('Frequency of Approved')\n",
    "#snb.set(rc={'figure.figsize':(10.7,7.97)})\n",
    "\n",
    "    # Majority of convertible customers belong to Employer_Category 2"
   ]
  },
  {
   "cell_type": "code",
   "execution_count": 30,
   "metadata": {},
   "outputs": [
    {
     "data": {
      "text/plain": [
       "Text(0,0.5,'Frequency of Approved')"
      ]
     },
     "execution_count": 30,
     "metadata": {},
     "output_type": "execute_result"
    },
    {
     "data": {
      "image/png": "[encoded data removed]",
      "text/plain": [
       "<matplotlib.figure.Figure at 0x1c9419296d8>"
      ]
     },
     "metadata": {},
     "output_type": "display_data"
    }
   ],
   "source": [
    "pd.crosstab(dev.Primary_Bank_Type,dev.Approved).plot(kind='bar')\n",
    "plt.title('Convertible Frequency for Primary_Bank_Type')\n",
    "plt.xlabel('Primary_Bank_Type')\n",
    "plt.ylabel('Frequency of Approved')\n",
    "#snb.set(rc={'figure.figsize':(10.7,7.97)})\n",
    "\n",
    "# Most of the customers have 'P' as primary_bank_type and each bank has good shares of convertible customers"
   ]
  },
  {
   "cell_type": "code",
   "execution_count": 31,
   "metadata": {},
   "outputs": [
    {
     "data": {
      "text/plain": [
       "Text(0,0.5,'Frequency of Approved')"
      ]
     },
     "execution_count": 31,
     "metadata": {},
     "output_type": "execute_result"
    },
    {
     "data": {
      "image/png": "[encoded data removed]",
      "text/plain": [
       "<matplotlib.figure.Figure at 0x1c941955898>"
      ]
     },
     "metadata": {},
     "output_type": "display_data"
    }
   ],
   "source": [
    "pd.crosstab(dev.Contacted,dev.Approved).plot(kind='bar')\n",
    "plt.title('Convertible Frequency for Contacted')\n",
    "plt.xlabel('Contacted')\n",
    "plt.ylabel('Frequency of Approved')\n",
    "#snb.set(rc={'figure.figsize':(10.7,7.97)})"
   ]
  },
  {
   "cell_type": "code",
   "execution_count": 32,
   "metadata": {},
   "outputs": [
    {
     "name": "stdout",
     "output_type": "stream",
     "text": [
      "Total Number of customers is 59546\n",
      "Percentage of customers who were contacted and are converted is 0.013821247438954758\n",
      "Percentage of customers who were contacted and are NOT converted is 0.6434521210492729\n",
      "Percentage of customers who were NOT contacted and are converted is 0.0028213482013905214\n",
      "Percentage of customers who were NOT contacted and are NOT converted is 0.3399052833103819\n"
     ]
    }
   ],
   "source": [
    "print('Total Number of customers is {}'.format(len(dev)))\n",
    "x = dev[dev.Contacted=='Y']\n",
    "print('Percentage of customers who were contacted and are converted is {}'.format(len(x[x.Approved==1])/len(dev)))\n",
    "print('Percentage of customers who were contacted and are NOT converted is {}'.format(len(x[x.Approved==0])/len(dev)))\n",
    "y = dev[dev.Contacted == 'N']\n",
    "print('Percentage of customers who were NOT contacted and are converted is {}'.format(len(y[y.Approved==1])/len(dev)))\n",
    "print('Percentage of customers who were NOT contacted and are NOT converted is {}'.format(len(y[y.Approved==0])/len(dev)))"
   ]
  },
  {
   "cell_type": "code",
   "execution_count": 33,
   "metadata": {
    "collapsed": true
   },
   "outputs": [],
   "source": [
    "dev = dev.drop_duplicates()\n",
    "dev = dev.drop(['DOB'], axis = 1)\n",
    "dev = dev.drop(['Lead_Creation_Date'], axis = 1)\n",
    "dev = dev.drop(['City_Category'], axis = 1)\n",
    "dev = dev.drop(['Employer_Code'], axis = 1)\n",
    "dev = dev.drop(['Customer_Existing_Primary_Bank_Code'], axis = 1)\n",
    "dev = dev.drop(['City_Code'], axis = 1)\n",
    "#dev = dev.drop(['Source'], axis = 1)\n",
    "#df_with_dummies = df_with_dummies.drop(['Unnamed: 0'], axis = 1)"
   ]
  },
  {
   "cell_type": "code",
   "execution_count": 34,
   "metadata": {
    "collapsed": true
   },
   "outputs": [],
   "source": [
    "dev['Gender'] = label_binarize(dev['Gender'], classes = [0,1])\n",
    "dev['Contacted'] = label_binarize(dev['Contacted'], classes=[0,1])\n",
    "dev['Employer_Category1'] = label_binarize(dev['Employer_Category1'], classes=[0,1,2])\n",
    "dev['Primary_Bank_Type'] = label_binarize(dev['Primary_Bank_Type'], classes=[0,1])\n",
    "dev['Source_Category'] = label_binarize(dev['Source_Category'], classes=[0,1,2,3,4,5,6])"
   ]
  },
  {
   "cell_type": "code",
   "execution_count": 35,
   "metadata": {
    "collapsed": true
   },
   "outputs": [],
   "source": [
    "#df_with_dummies = pd.get_dummies( data = dev, columns = ['Employer_Category1','Primary_Bank_Type','Source_Category']  )"
   ]
  },
  {
   "cell_type": "code",
   "execution_count": 38,
   "metadata": {},
   "outputs": [],
   "source": [
    "\n",
    "#df_with_dummies['City_Code'] = df_with_dummies['City_Code'].str.replace('C', '')\n",
    "#df_with_dummies['Employer_Code'] = df_with_dummies['Employer_Code'].str.replace('COM', '')\n",
    "#df_with_dummies['Customer_Existing_Primary_Bank_Code'] = df_with_dummies['Customer_Existing_Primary_Bank_Code'].str.replace('B', '')\n",
    "df_with_dummies = dev\n",
    "df_with_dummies['Source'] = df_with_dummies['Source'].str.replace('S', '')"
   ]
  },
  {
   "cell_type": "code",
   "execution_count": 39,
   "metadata": {},
   "outputs": [],
   "source": [
    "df_with_dummies['Gender'] = df_with_dummies['Gender'].astype('object')\n",
    "df_with_dummies['Employer_Category2'] = df_with_dummies['Employer_Category2'].astype('object')\n",
    "df_with_dummies['Contacted'] = df_with_dummies['Contacted'].astype('object')\n",
    "df_with_dummies['Var1'] = df_with_dummies['Var1'].astype('object')\n",
    "df_with_dummies['Primary_Bank_Type'] = df_with_dummies['Primary_Bank_Type'].astype('object')\n",
    "df_with_dummies['Employer_Category1'] = df_with_dummies['Employer_Category1'].astype('object')\n",
    "df_with_dummies['Source_Category'] = df_with_dummies['Source_Category'].astype('object')\n",
    "df_with_dummies['Source'] = df_with_dummies['Source'].astype('object')"
   ]
  },
  {
   "cell_type": "code",
   "execution_count": 40,
   "metadata": {
    "collapsed": true
   },
   "outputs": [],
   "source": [
    "from sklearn.preprocessing import  StandardScaler\n",
    "Scale = StandardScaler()\n",
    "df_with_dummies[['Monthly_Income', 'Existing_EMI']] = Scale.fit_transform(df_with_dummies[['Monthly_Income','Existing_EMI']])"
   ]
  },
  {
   "cell_type": "code",
   "execution_count": 41,
   "metadata": {},
   "outputs": [
    {
     "data": {
      "text/html": [
       "<div>\n",
       "<style>\n",
       "    .dataframe thead tr:only-child th {\n",
       "        text-align: right;\n",
       "    }\n",
       "\n",
       "    .dataframe thead th {\n",
       "        text-align: left;\n",
       "    }\n",
       "\n",
       "    .dataframe tbody tr th {\n",
       "        vertical-align: top;\n",
       "    }\n",
       "</style>\n",
       "<table border=\"1\" class=\"dataframe\">\n",
       "  <thead>\n",
       "    <tr style=\"text-align: right;\">\n",
       "      <th></th>\n",
       "      <th>Unnamed: 0</th>\n",
       "      <th>X.ID</th>\n",
       "      <th>Gender</th>\n",
       "      <th>Employer_Category1</th>\n",
       "      <th>Employer_Category2</th>\n",
       "      <th>Monthly_Income</th>\n",
       "      <th>Primary_Bank_Type</th>\n",
       "      <th>Contacted</th>\n",
       "      <th>Source</th>\n",
       "      <th>Source_Category</th>\n",
       "      <th>Existing_EMI</th>\n",
       "      <th>Var1</th>\n",
       "      <th>Approved</th>\n",
       "    </tr>\n",
       "  </thead>\n",
       "  <tbody>\n",
       "    <tr>\n",
       "      <th>0</th>\n",
       "      <td>1</td>\n",
       "      <td>APPC90493171225</td>\n",
       "      <td>0</td>\n",
       "      <td>0</td>\n",
       "      <td>4</td>\n",
       "      <td>-0.020030</td>\n",
       "      <td>0</td>\n",
       "      <td>0</td>\n",
       "      <td>122</td>\n",
       "      <td>0</td>\n",
       "      <td>-0.370220</td>\n",
       "      <td>0</td>\n",
       "      <td>0</td>\n",
       "    </tr>\n",
       "    <tr>\n",
       "      <th>1</th>\n",
       "      <td>2</td>\n",
       "      <td>APPD40611263344</td>\n",
       "      <td>0</td>\n",
       "      <td>0</td>\n",
       "      <td>1</td>\n",
       "      <td>-0.011713</td>\n",
       "      <td>0</td>\n",
       "      <td>0</td>\n",
       "      <td>122</td>\n",
       "      <td>0</td>\n",
       "      <td>-0.370220</td>\n",
       "      <td>10</td>\n",
       "      <td>0</td>\n",
       "    </tr>\n",
       "    <tr>\n",
       "      <th>2</th>\n",
       "      <td>3</td>\n",
       "      <td>APPE70289249423</td>\n",
       "      <td>0</td>\n",
       "      <td>0</td>\n",
       "      <td>4</td>\n",
       "      <td>-0.018644</td>\n",
       "      <td>0</td>\n",
       "      <td>0</td>\n",
       "      <td>143</td>\n",
       "      <td>0</td>\n",
       "      <td>-0.370220</td>\n",
       "      <td>0</td>\n",
       "      <td>0</td>\n",
       "    </tr>\n",
       "    <tr>\n",
       "      <th>3</th>\n",
       "      <td>4</td>\n",
       "      <td>APPF80273865537</td>\n",
       "      <td>0</td>\n",
       "      <td>0</td>\n",
       "      <td>4</td>\n",
       "      <td>-0.011713</td>\n",
       "      <td>0</td>\n",
       "      <td>0</td>\n",
       "      <td>143</td>\n",
       "      <td>0</td>\n",
       "      <td>-0.370220</td>\n",
       "      <td>7</td>\n",
       "      <td>0</td>\n",
       "    </tr>\n",
       "    <tr>\n",
       "      <th>4</th>\n",
       "      <td>5</td>\n",
       "      <td>APPG60994436641</td>\n",
       "      <td>0</td>\n",
       "      <td>0</td>\n",
       "      <td>4</td>\n",
       "      <td>0.024329</td>\n",
       "      <td>0</td>\n",
       "      <td>0</td>\n",
       "      <td>134</td>\n",
       "      <td>0</td>\n",
       "      <td>2.061068</td>\n",
       "      <td>10</td>\n",
       "      <td>0</td>\n",
       "    </tr>\n",
       "  </tbody>\n",
       "</table>\n",
       "</div>"
      ],
      "text/plain": [
       "   Unnamed: 0             X.ID Gender Employer_Category1 Employer_Category2  \\\n",
       "0           1  APPC90493171225      0                  0                  4   \n",
       "1           2  APPD40611263344      0                  0                  1   \n",
       "2           3  APPE70289249423      0                  0                  4   \n",
       "3           4  APPF80273865537      0                  0                  4   \n",
       "4           5  APPG60994436641      0                  0                  4   \n",
       "\n",
       "   Monthly_Income Primary_Bank_Type Contacted Source Source_Category  \\\n",
       "0       -0.020030                 0         0    122               0   \n",
       "1       -0.011713                 0         0    122               0   \n",
       "2       -0.018644                 0         0    143               0   \n",
       "3       -0.011713                 0         0    143               0   \n",
       "4        0.024329                 0         0    134               0   \n",
       "\n",
       "   Existing_EMI Var1  Approved  \n",
       "0     -0.370220    0         0  \n",
       "1     -0.370220   10         0  \n",
       "2     -0.370220    0         0  \n",
       "3     -0.370220    7         0  \n",
       "4      2.061068   10         0  "
      ]
     },
     "execution_count": 41,
     "metadata": {},
     "output_type": "execute_result"
    }
   ],
   "source": [
    "df_with_dummies.head()"
   ]
  },
  {
   "cell_type": "code",
   "execution_count": 42,
   "metadata": {},
   "outputs": [
    {
     "data": {
      "text/html": [
       "<div>\n",
       "<style>\n",
       "    .dataframe thead tr:only-child th {\n",
       "        text-align: right;\n",
       "    }\n",
       "\n",
       "    .dataframe thead th {\n",
       "        text-align: left;\n",
       "    }\n",
       "\n",
       "    .dataframe tbody tr th {\n",
       "        vertical-align: top;\n",
       "    }\n",
       "</style>\n",
       "<table border=\"1\" class=\"dataframe\">\n",
       "  <thead>\n",
       "    <tr style=\"text-align: right;\">\n",
       "      <th></th>\n",
       "      <th>Monthly_Income</th>\n",
       "      <th>Existing_EMI</th>\n",
       "    </tr>\n",
       "  </thead>\n",
       "  <tbody>\n",
       "    <tr>\n",
       "      <th>Monthly_Income</th>\n",
       "      <td>1.000000</td>\n",
       "      <td>0.019751</td>\n",
       "    </tr>\n",
       "    <tr>\n",
       "      <th>Existing_EMI</th>\n",
       "      <td>0.019751</td>\n",
       "      <td>1.000000</td>\n",
       "    </tr>\n",
       "  </tbody>\n",
       "</table>\n",
       "</div>"
      ],
      "text/plain": [
       "                Monthly_Income  Existing_EMI\n",
       "Monthly_Income        1.000000      0.019751\n",
       "Existing_EMI          0.019751      1.000000"
      ]
     },
     "execution_count": 42,
     "metadata": {},
     "output_type": "execute_result"
    }
   ],
   "source": [
    "# correlation matrix\n",
    "df_with_dummies.drop(['Unnamed: 0','X.ID','Approved'], axis =1).corr()\n",
    "# Features doesn't seems to be correlated"
   ]
  },
  {
   "cell_type": "code",
   "execution_count": 43,
   "metadata": {
    "collapsed": true
   },
   "outputs": [],
   "source": [
    "from sklearn.model_selection import train_test_split"
   ]
  },
  {
   "cell_type": "code",
   "execution_count": 51,
   "metadata": {
    "collapsed": true,
    "scrolled": true
   },
   "outputs": [],
   "source": [
    "trainx, testx, trainy, testy = train_test_split(df_with_dummies.drop(['Approved'], axis =1), df_with_dummies['Approved'], test_size = 0.20, stratify = df_with_dummies['Approved'], random_state = 0)"
   ]
  },
  {
   "cell_type": "code",
   "execution_count": 53,
   "metadata": {},
   "outputs": [
    {
     "name": "stdout",
     "output_type": "stream",
     "text": [
      "Train Accuracy: 0.678164\n",
      "Test Accuracy: 0.673132\n"
     ]
    }
   ],
   "source": [
    "# With under sampling\n",
    "from imblearn.under_sampling import RandomUnderSampler\n",
    "from sklearn.linear_model import LogisticRegression\n",
    "from imblearn.pipeline import make_pipeline\n",
    "from sklearn.metrics import accuracy_score\n",
    "from sklearn import decomposition\n",
    "# Create a pipeline\n",
    "pipeline = make_pipeline(RandomUnderSampler(),\n",
    "                         decomposition.PCA(),\n",
    "                         LogisticRegression(),\n",
    "                        )\n",
    "pipeline.fit(trainx.drop(['Unnamed: 0','X.ID'], axis =1), trainy)\n",
    "print(\"Train Accuracy: %.6f\" % (accuracy_score(trainy, pipeline.predict(trainx.drop(['Unnamed: 0','X.ID'], axis =1)) )))\n",
    "pred_y = pipeline.predict(testx.drop(['Unnamed: 0','X.ID'], axis =1))\n",
    "print(\"Test Accuracy: %.6f\" % (accuracy_score(testy, pred_y )))\n"
   ]
  },
  {
   "cell_type": "code",
   "execution_count": 54,
   "metadata": {},
   "outputs": [
    {
     "name": "stdout",
     "output_type": "stream",
     "text": [
      "100-fold cross validation average accuracy: 0.674783\n"
     ]
    }
   ],
   "source": [
    "# With Under sampling and cross validation\n",
    "from sklearn.model_selection import cross_val_score\n",
    "from sklearn import  model_selection\n",
    "fold = 100\n",
    "kfold = model_selection.KFold(n_splits=fold, random_state=7)\n",
    "scoring = 'accuracy'\n",
    "results = cross_val_score(pipeline, trainx.drop(['Unnamed: 0','X.ID'], axis =1), trainy, cv=kfold, scoring=scoring)\n",
    "print(\"{}-fold cross validation average accuracy: {:.6f}\".format (fold,results.mean()))\n",
    "###### As cross validation result is close to testing score, model is not overfitted"
   ]
  },
  {
   "cell_type": "markdown",
   "metadata": {},
   "source": [
    "### Confusion matrix, f1 score, precision and recall"
   ]
  },
  {
   "cell_type": "code",
   "execution_count": 55,
   "metadata": {},
   "outputs": [
    {
     "data": {
      "text/plain": [
       "array([[7872, 3840],\n",
       "       [  53,  145]], dtype=int64)"
      ]
     },
     "execution_count": 55,
     "metadata": {},
     "output_type": "execute_result"
    }
   ],
   "source": [
    "from sklearn.metrics import confusion_matrix\n",
    "confusion_matrix(testy, pred_y )\n",
    "# Pred_y -> holds prediction of test_X features\n",
    "# The result is telling us that we have 4077+1779 correct predictions and 33+66 incorrect predictions."
   ]
  },
  {
   "cell_type": "code",
   "execution_count": 56,
   "metadata": {},
   "outputs": [
    {
     "name": "stdout",
     "output_type": "stream",
     "text": [
      "             precision    recall  f1-score   support\n",
      "\n",
      "          0       0.99      0.67      0.80     11712\n",
      "          1       0.04      0.73      0.07       198\n",
      "\n",
      "avg / total       0.98      0.67      0.79     11910\n",
      "\n"
     ]
    }
   ],
   "source": [
    "from sklearn.metrics import classification_report\n",
    "print(classification_report(testy, pred_y))\n",
    "# Interpretation:\n",
    "# 98% of negative samples are not identified as positive (precision)\n",
    "# 70% of positive samples are correctly identified (recall)\n",
    "# Weighted average of precision and recall is 81% (f1-score)"
   ]
  },
  {
   "cell_type": "markdown",
   "metadata": {},
   "source": [
    "# Predition on test data"
   ]
  },
  {
   "cell_type": "markdown",
   "metadata": {},
   "source": [
    "### Read test data and clean it"
   ]
  },
  {
   "cell_type": "code",
   "execution_count": 158,
   "metadata": {},
   "outputs": [
    {
     "data": {
      "text/plain": [
       "(25707, 12)"
      ]
     },
     "execution_count": 158,
     "metadata": {},
     "output_type": "execute_result"
    }
   ],
   "source": [
    "test = pd.read_csv('test_clean.csv')\n",
    "test = test.dropna()\n",
    "test = test.drop_duplicates()\n",
    "test = test.drop_duplicates()\n",
    "test = test.drop(['DOB'], axis = 1)\n",
    "test = test.drop(['Lead_Creation_Date'], axis = 1)\n",
    "test = test.drop(['City_Category'], axis = 1)\n",
    "test = test.drop(['Employer_Code'], axis = 1)\n",
    "test = test.drop(['Customer_Existing_Primary_Bank_Code'], axis = 1)\n",
    "test = test.drop(['City_Code'], axis = 1)\n",
    "\n",
    "test['Gender'] = label_binarize(test['Gender'], classes = [0,1])\n",
    "test['Contacted'] = label_binarize(test['Contacted'], classes=[0,1])\n",
    "test['Employer_Category1'] = label_binarize(test['Employer_Category1'], classes=[0,1,2])\n",
    "test['Primary_Bank_Type'] = label_binarize(test['Primary_Bank_Type'], classes=[0,1])\n",
    "test['Source_Category'] = label_binarize(test['Source_Category'], classes=[0,1,2,3,4,5,6])\n",
    "\n",
    "\n",
    "test['Source'] = test['Source'].str.replace('S', '')\n",
    "\n",
    "test['Gender'] = test['Gender'].astype('object')\n",
    "test['Employer_Category2'] = test['Employer_Category2'].astype('object')\n",
    "test['Contacted'] = test['Contacted'].astype('object')\n",
    "test['Var1'] = test['Var1'].astype('object')\n",
    "test['Primary_Bank_Type'] = test['Primary_Bank_Type'].astype('object')\n",
    "test['Employer_Category1'] = test['Employer_Category1'].astype('object')\n",
    "test['Source_Category'] = test['Source_Category'].astype('object')\n",
    "test['Source'] = test['Source'].astype('object')\n",
    "\n",
    "from sklearn.preprocessing import  StandardScaler\n",
    "Scale = StandardScaler()\n",
    "test[['Monthly_Income', 'Existing_EMI']] = Scale.fit_transform(test[['Monthly_Income','Existing_EMI']])\n",
    "test.shape"
   ]
  },
  {
   "cell_type": "markdown",
   "metadata": {},
   "source": [
    "### Testing"
   ]
  },
  {
   "cell_type": "code",
   "execution_count": 172,
   "metadata": {},
   "outputs": [],
   "source": [
    "predicted_Y = pipeline.predict(test.drop(['Unnamed: 0','X.ID'], axis =1))"
   ]
  },
  {
   "cell_type": "code",
   "execution_count": 173,
   "metadata": {},
   "outputs": [
    {
     "data": {
      "text/plain": [
       "array([0, 0, 0, ..., 0, 1, 0], dtype=int64)"
      ]
     },
     "execution_count": 173,
     "metadata": {},
     "output_type": "execute_result"
    }
   ],
   "source": [
    "predicted_Y"
   ]
  },
  {
   "cell_type": "code",
   "execution_count": 174,
   "metadata": {},
   "outputs": [],
   "source": [
    "pred_proba = pipeline.predict_proba(test.drop(['Unnamed: 0','X.ID'], axis =1))\n",
    "# Gives likelihood of being in class 0 to likelihood of being in class 1"
   ]
  },
  {
   "cell_type": "code",
   "execution_count": 175,
   "metadata": {},
   "outputs": [
    {
     "data": {
      "text/plain": [
       "array([ 0.35244655,  0.48442731,  0.13870228, ...,  0.19409306,\n",
       "        0.65986713,  0.25111273])"
      ]
     },
     "execution_count": 175,
     "metadata": {},
     "output_type": "execute_result"
    }
   ],
   "source": [
    "pred_proba[:,1] # Likelihood of being in class 1"
   ]
  },
  {
   "cell_type": "code",
   "execution_count": 176,
   "metadata": {},
   "outputs": [
    {
     "data": {
      "text/plain": [
       "array([ 0.64755345,  0.51557269,  0.86129772, ...,  0.80590694,\n",
       "        0.34013287,  0.74888727])"
      ]
     },
     "execution_count": 176,
     "metadata": {},
     "output_type": "execute_result"
    }
   ],
   "source": [
    "pred_proba[:,0] # Likelihood of being in class 0"
   ]
  },
  {
   "cell_type": "code",
   "execution_count": 177,
   "metadata": {},
   "outputs": [],
   "source": [
    "# Append predicted values to the dataFrame\n",
    "test['Approved']= predicted_Y\n",
    "test['Class_1_Score'] = pred_proba[:,1]\n",
    "test['Class_0_Score'] = pred_proba[:,0]"
   ]
  },
  {
   "cell_type": "code",
   "execution_count": 167,
   "metadata": {},
   "outputs": [
    {
     "name": "stdout",
     "output_type": "stream",
     "text": [
      "Percentage of customers to convert 0.33352783288598437\n"
     ]
    }
   ],
   "source": [
    "print('Percentage of customers to convert {}'.format(len(predicted_Y [predicted_Y == 1])/len(predicted_Y)))"
   ]
  },
  {
   "cell_type": "code",
   "execution_count": 181,
   "metadata": {},
   "outputs": [
    {
     "name": "stdout",
     "output_type": "stream",
     "text": [
      "Percentage of customers with higher than 90% probability of converion 0.012409071459135643\n"
     ]
    }
   ],
   "source": [
    "print('Percentage of customers with higher than 90% probability of converion {}'.format(len(test[(test['Approved']==1 ) & (test['Class_1_Score']>.9)])/len(test)))"
   ]
  },
  {
   "cell_type": "code",
   "execution_count": 134,
   "metadata": {},
   "outputs": [
    {
     "data": {
      "text/html": [
       "<div>\n",
       "<style>\n",
       "    .dataframe thead tr:only-child th {\n",
       "        text-align: right;\n",
       "    }\n",
       "\n",
       "    .dataframe thead th {\n",
       "        text-align: left;\n",
       "    }\n",
       "\n",
       "    .dataframe tbody tr th {\n",
       "        vertical-align: top;\n",
       "    }\n",
       "</style>\n",
       "<table border=\"1\" class=\"dataframe\">\n",
       "  <thead>\n",
       "    <tr style=\"text-align: right;\">\n",
       "      <th></th>\n",
       "      <th>Unnamed: 0</th>\n",
       "      <th>X.ID</th>\n",
       "      <th>Gender</th>\n",
       "      <th>Employer_Category1</th>\n",
       "      <th>Employer_Category2</th>\n",
       "      <th>Monthly_Income</th>\n",
       "      <th>Primary_Bank_Type</th>\n",
       "      <th>Contacted</th>\n",
       "      <th>Source</th>\n",
       "      <th>Source_Category</th>\n",
       "      <th>Existing_EMI</th>\n",
       "      <th>Var1</th>\n",
       "      <th>Class_1_Score</th>\n",
       "      <th>Class_0_Score</th>\n",
       "      <th>Approved</th>\n",
       "    </tr>\n",
       "  </thead>\n",
       "  <tbody>\n",
       "    <tr>\n",
       "      <th>0</th>\n",
       "      <td>1</td>\n",
       "      <td>APPA70109647212</td>\n",
       "      <td>0</td>\n",
       "      <td>0</td>\n",
       "      <td>4</td>\n",
       "      <td>-0.077183</td>\n",
       "      <td>0</td>\n",
       "      <td>0</td>\n",
       "      <td>122</td>\n",
       "      <td>0</td>\n",
       "      <td>-0.371870</td>\n",
       "      <td>4</td>\n",
       "      <td>0.352447</td>\n",
       "      <td>0.647553</td>\n",
       "      <td>0</td>\n",
       "    </tr>\n",
       "    <tr>\n",
       "      <th>1</th>\n",
       "      <td>2</td>\n",
       "      <td>APPB10687939341</td>\n",
       "      <td>0</td>\n",
       "      <td>0</td>\n",
       "      <td>4</td>\n",
       "      <td>0.005733</td>\n",
       "      <td>0</td>\n",
       "      <td>0</td>\n",
       "      <td>133</td>\n",
       "      <td>0</td>\n",
       "      <td>-0.371870</td>\n",
       "      <td>7</td>\n",
       "      <td>0.484427</td>\n",
       "      <td>0.515573</td>\n",
       "      <td>0</td>\n",
       "    </tr>\n",
       "    <tr>\n",
       "      <th>2</th>\n",
       "      <td>3</td>\n",
       "      <td>APPC80449411414</td>\n",
       "      <td>0</td>\n",
       "      <td>0</td>\n",
       "      <td>4</td>\n",
       "      <td>-0.123697</td>\n",
       "      <td>0</td>\n",
       "      <td>0</td>\n",
       "      <td>133</td>\n",
       "      <td>0</td>\n",
       "      <td>-0.371870</td>\n",
       "      <td>0</td>\n",
       "      <td>0.138702</td>\n",
       "      <td>0.861298</td>\n",
       "      <td>0</td>\n",
       "    </tr>\n",
       "    <tr>\n",
       "      <th>3</th>\n",
       "      <td>4</td>\n",
       "      <td>APPD30665094501</td>\n",
       "      <td>0</td>\n",
       "      <td>0</td>\n",
       "      <td>3</td>\n",
       "      <td>-0.104889</td>\n",
       "      <td>0</td>\n",
       "      <td>0</td>\n",
       "      <td>133</td>\n",
       "      <td>0</td>\n",
       "      <td>-0.371870</td>\n",
       "      <td>0</td>\n",
       "      <td>0.139099</td>\n",
       "      <td>0.860901</td>\n",
       "      <td>0</td>\n",
       "    </tr>\n",
       "    <tr>\n",
       "      <th>4</th>\n",
       "      <td>5</td>\n",
       "      <td>APPE80379821637</td>\n",
       "      <td>0</td>\n",
       "      <td>0</td>\n",
       "      <td>4</td>\n",
       "      <td>-0.069498</td>\n",
       "      <td>0</td>\n",
       "      <td>0</td>\n",
       "      <td>143</td>\n",
       "      <td>0</td>\n",
       "      <td>0.127867</td>\n",
       "      <td>0</td>\n",
       "      <td>0.148327</td>\n",
       "      <td>0.851673</td>\n",
       "      <td>0</td>\n",
       "    </tr>\n",
       "  </tbody>\n",
       "</table>\n",
       "</div>"
      ],
      "text/plain": [
       "   Unnamed: 0             X.ID Gender Employer_Category1 Employer_Category2  \\\n",
       "0           1  APPA70109647212      0                  0                  4   \n",
       "1           2  APPB10687939341      0                  0                  4   \n",
       "2           3  APPC80449411414      0                  0                  4   \n",
       "3           4  APPD30665094501      0                  0                  3   \n",
       "4           5  APPE80379821637      0                  0                  4   \n",
       "\n",
       "   Monthly_Income Primary_Bank_Type Contacted Source Source_Category  \\\n",
       "0       -0.077183                 0         0    122               0   \n",
       "1        0.005733                 0         0    133               0   \n",
       "2       -0.123697                 0         0    133               0   \n",
       "3       -0.104889                 0         0    133               0   \n",
       "4       -0.069498                 0         0    143               0   \n",
       "\n",
       "   Existing_EMI Var1  Class_1_Score  Class_0_Score  Approved  \n",
       "0     -0.371870    4       0.352447       0.647553         0  \n",
       "1     -0.371870    7       0.484427       0.515573         0  \n",
       "2     -0.371870    0       0.138702       0.861298         0  \n",
       "3     -0.371870    0       0.139099       0.860901         0  \n",
       "4      0.127867    0       0.148327       0.851673         0  "
      ]
     },
     "execution_count": 134,
     "metadata": {},
     "output_type": "execute_result"
    }
   ],
   "source": [
    "test.head()"
   ]
  },
  {
   "cell_type": "code",
   "execution_count": 149,
   "metadata": {},
   "outputs": [],
   "source": [
    "# Segregate customers with high probability of conversion\n",
    "convertible_customer = test[(test['Approved'] == 1) & (test['Class_1_Score']> 0.9)]"
   ]
  },
  {
   "cell_type": "code",
   "execution_count": 151,
   "metadata": {},
   "outputs": [],
   "source": [
    "# Export data to csv file\n",
    "convertible_customer.to_csv('convertible_customer.csv')"
   ]
  }
 ],
 "metadata": {
  "kernelspec": {
   "display_name": "Python 3",
   "language": "python",
   "name": "python3"
  },
  "language_info": {
   "codemirror_mode": {
    "name": "ipython",
    "version": 3
   },
   "file_extension": ".py",
   "mimetype": "text/x-python",
   "name": "python",
   "nbconvert_exporter": "python",
   "pygments_lexer": "ipython3",
   "version": "3.6.3"
  }
 },
 "nbformat": 4,
 "nbformat_minor": 2
}
