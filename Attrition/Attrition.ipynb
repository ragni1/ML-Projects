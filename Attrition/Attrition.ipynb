{
 "cells": [
  {
   "cell_type": "code",
   "execution_count": 69,
   "metadata": {
    "collapsed": true
   },
   "outputs": [],
   "source": [
    "import pandas as pd\n",
    "df = pd.read_csv(\"Attritiondata.csv\")"
   ]
  },
  {
   "cell_type": "markdown",
   "metadata": {},
   "source": [
    "# Exploratory Data Analysis "
   ]
  },
  {
   "cell_type": "code",
   "execution_count": 70,
   "metadata": {},
   "outputs": [
    {
     "data": {
      "text/html": [
       "<div>\n",
       "<style>\n",
       "    .dataframe thead tr:only-child th {\n",
       "        text-align: right;\n",
       "    }\n",
       "\n",
       "    .dataframe thead th {\n",
       "        text-align: left;\n",
       "    }\n",
       "\n",
       "    .dataframe tbody tr th {\n",
       "        vertical-align: top;\n",
       "    }\n",
       "</style>\n",
       "<table border=\"1\" class=\"dataframe\">\n",
       "  <thead>\n",
       "    <tr style=\"text-align: right;\">\n",
       "      <th></th>\n",
       "      <th>Attrition</th>\n",
       "      <th>Age</th>\n",
       "      <th>BusinessTravel</th>\n",
       "      <th>DailyRate</th>\n",
       "      <th>Department</th>\n",
       "      <th>DistanceFromHome</th>\n",
       "      <th>Education</th>\n",
       "      <th>EducationField</th>\n",
       "      <th>EmployeeCount</th>\n",
       "      <th>EmployeeNumber</th>\n",
       "      <th>...</th>\n",
       "      <th>RelationshipSatisfaction</th>\n",
       "      <th>StandardHours</th>\n",
       "      <th>StockOptionLevel</th>\n",
       "      <th>TotalWorkingYears</th>\n",
       "      <th>TrainingTimesLastYear</th>\n",
       "      <th>WorkLifeBalance</th>\n",
       "      <th>YearsAtCompany</th>\n",
       "      <th>YearsInCurrentRole</th>\n",
       "      <th>YearsSinceLastPromotion</th>\n",
       "      <th>YearsWithCurrManager</th>\n",
       "    </tr>\n",
       "  </thead>\n",
       "  <tbody>\n",
       "    <tr>\n",
       "      <th>2053</th>\n",
       "      <td>0</td>\n",
       "      <td>39</td>\n",
       "      <td>1</td>\n",
       "      <td>722</td>\n",
       "      <td>2</td>\n",
       "      <td>24</td>\n",
       "      <td>1</td>\n",
       "      <td>2</td>\n",
       "      <td>1</td>\n",
       "      <td>2933</td>\n",
       "      <td>...</td>\n",
       "      <td>1</td>\n",
       "      <td>80</td>\n",
       "      <td>1</td>\n",
       "      <td>21</td>\n",
       "      <td>2</td>\n",
       "      <td>2</td>\n",
       "      <td>20</td>\n",
       "      <td>9</td>\n",
       "      <td>9</td>\n",
       "      <td>6</td>\n",
       "    </tr>\n",
       "    <tr>\n",
       "      <th>2054</th>\n",
       "      <td>0</td>\n",
       "      <td>36</td>\n",
       "      <td>2</td>\n",
       "      <td>884</td>\n",
       "      <td>0</td>\n",
       "      <td>23</td>\n",
       "      <td>2</td>\n",
       "      <td>3</td>\n",
       "      <td>1</td>\n",
       "      <td>2936</td>\n",
       "      <td>...</td>\n",
       "      <td>3</td>\n",
       "      <td>80</td>\n",
       "      <td>1</td>\n",
       "      <td>17</td>\n",
       "      <td>3</td>\n",
       "      <td>3</td>\n",
       "      <td>5</td>\n",
       "      <td>2</td>\n",
       "      <td>0</td>\n",
       "      <td>3</td>\n",
       "    </tr>\n",
       "    <tr>\n",
       "      <th>2055</th>\n",
       "      <td>0</td>\n",
       "      <td>27</td>\n",
       "      <td>1</td>\n",
       "      <td>155</td>\n",
       "      <td>0</td>\n",
       "      <td>4</td>\n",
       "      <td>3</td>\n",
       "      <td>4</td>\n",
       "      <td>1</td>\n",
       "      <td>2938</td>\n",
       "      <td>...</td>\n",
       "      <td>2</td>\n",
       "      <td>80</td>\n",
       "      <td>1</td>\n",
       "      <td>6</td>\n",
       "      <td>0</td>\n",
       "      <td>3</td>\n",
       "      <td>6</td>\n",
       "      <td>2</td>\n",
       "      <td>0</td>\n",
       "      <td>3</td>\n",
       "    </tr>\n",
       "    <tr>\n",
       "      <th>2056</th>\n",
       "      <td>0</td>\n",
       "      <td>49</td>\n",
       "      <td>2</td>\n",
       "      <td>1023</td>\n",
       "      <td>2</td>\n",
       "      <td>2</td>\n",
       "      <td>3</td>\n",
       "      <td>3</td>\n",
       "      <td>1</td>\n",
       "      <td>2939</td>\n",
       "      <td>...</td>\n",
       "      <td>4</td>\n",
       "      <td>80</td>\n",
       "      <td>0</td>\n",
       "      <td>17</td>\n",
       "      <td>3</td>\n",
       "      <td>2</td>\n",
       "      <td>9</td>\n",
       "      <td>6</td>\n",
       "      <td>0</td>\n",
       "      <td>8</td>\n",
       "    </tr>\n",
       "    <tr>\n",
       "      <th>2057</th>\n",
       "      <td>0</td>\n",
       "      <td>34</td>\n",
       "      <td>1</td>\n",
       "      <td>628</td>\n",
       "      <td>0</td>\n",
       "      <td>8</td>\n",
       "      <td>3</td>\n",
       "      <td>3</td>\n",
       "      <td>1</td>\n",
       "      <td>2940</td>\n",
       "      <td>...</td>\n",
       "      <td>1</td>\n",
       "      <td>80</td>\n",
       "      <td>0</td>\n",
       "      <td>6</td>\n",
       "      <td>3</td>\n",
       "      <td>4</td>\n",
       "      <td>4</td>\n",
       "      <td>3</td>\n",
       "      <td>1</td>\n",
       "      <td>2</td>\n",
       "    </tr>\n",
       "  </tbody>\n",
       "</table>\n",
       "<p>5 rows × 35 columns</p>\n",
       "</div>"
      ],
      "text/plain": [
       "      Attrition  Age  BusinessTravel  DailyRate  Department  DistanceFromHome  \\\n",
       "2053          0   39               1        722           2                24   \n",
       "2054          0   36               2        884           0                23   \n",
       "2055          0   27               1        155           0                 4   \n",
       "2056          0   49               2       1023           2                 2   \n",
       "2057          0   34               1        628           0                 8   \n",
       "\n",
       "      Education  EducationField  EmployeeCount  EmployeeNumber  \\\n",
       "2053          1               2              1            2933   \n",
       "2054          2               3              1            2936   \n",
       "2055          3               4              1            2938   \n",
       "2056          3               3              1            2939   \n",
       "2057          3               3              1            2940   \n",
       "\n",
       "              ...           RelationshipSatisfaction  StandardHours  \\\n",
       "2053          ...                                  1             80   \n",
       "2054          ...                                  3             80   \n",
       "2055          ...                                  2             80   \n",
       "2056          ...                                  4             80   \n",
       "2057          ...                                  1             80   \n",
       "\n",
       "      StockOptionLevel  TotalWorkingYears  TrainingTimesLastYear  \\\n",
       "2053                 1                 21                      2   \n",
       "2054                 1                 17                      3   \n",
       "2055                 1                  6                      0   \n",
       "2056                 0                 17                      3   \n",
       "2057                 0                  6                      3   \n",
       "\n",
       "      WorkLifeBalance  YearsAtCompany  YearsInCurrentRole  \\\n",
       "2053                2              20                   9   \n",
       "2054                3               5                   2   \n",
       "2055                3               6                   2   \n",
       "2056                2               9                   6   \n",
       "2057                4               4                   3   \n",
       "\n",
       "      YearsSinceLastPromotion  YearsWithCurrManager  \n",
       "2053                        9                     6  \n",
       "2054                        0                     3  \n",
       "2055                        0                     3  \n",
       "2056                        0                     8  \n",
       "2057                        1                     2  \n",
       "\n",
       "[5 rows x 35 columns]"
      ]
     },
     "execution_count": 70,
     "metadata": {},
     "output_type": "execute_result"
    }
   ],
   "source": [
    "df.head()\n",
    "df.tail()"
   ]
  },
  {
   "cell_type": "code",
   "execution_count": 71,
   "metadata": {
    "scrolled": true
   },
   "outputs": [
    {
     "name": "stdout",
     "output_type": "stream",
     "text": [
      "<class 'pandas.core.frame.DataFrame'>\n",
      "RangeIndex: 2058 entries, 0 to 2057\n",
      "Data columns (total 35 columns):\n",
      "Attrition                   2058 non-null int64\n",
      "Age                         2058 non-null int64\n",
      "BusinessTravel              2058 non-null int64\n",
      "DailyRate                   2058 non-null int64\n",
      "Department                  2058 non-null int64\n",
      "DistanceFromHome            2058 non-null int64\n",
      "Education                   2058 non-null int64\n",
      "EducationField              2058 non-null int64\n",
      "EmployeeCount               2058 non-null int64\n",
      "EmployeeNumber              2058 non-null int64\n",
      "EnvironmentSatisfaction     2058 non-null int64\n",
      "Gender                      2058 non-null int64\n",
      "HourlyRate                  2058 non-null int64\n",
      "JobInvolvement              2058 non-null int64\n",
      "JobLevel                    2058 non-null int64\n",
      "JobRole                     2058 non-null int64\n",
      "JobSatisfaction             2058 non-null int64\n",
      "MaritalStatus               2058 non-null int64\n",
      "MonthlyIncome               2058 non-null int64\n",
      "MonthlyRate                 2058 non-null int64\n",
      "NumCompaniesWorked          2058 non-null int64\n",
      "Over18                      2058 non-null int64\n",
      "OverTime                    2058 non-null int64\n",
      "PercentSalaryHike           2058 non-null int64\n",
      "PerformanceRating           2058 non-null int64\n",
      "RelationshipSatisfaction    2058 non-null int64\n",
      "StandardHours               2058 non-null int64\n",
      "StockOptionLevel            2058 non-null int64\n",
      "TotalWorkingYears           2058 non-null int64\n",
      "TrainingTimesLastYear       2058 non-null int64\n",
      "WorkLifeBalance             2058 non-null int64\n",
      "YearsAtCompany              2058 non-null int64\n",
      "YearsInCurrentRole          2058 non-null int64\n",
      "YearsSinceLastPromotion     2058 non-null int64\n",
      "YearsWithCurrManager        2058 non-null int64\n",
      "dtypes: int64(35)\n",
      "memory usage: 562.8 KB\n"
     ]
    }
   ],
   "source": [
    "df.info()"
   ]
  },
  {
   "cell_type": "code",
   "execution_count": 72,
   "metadata": {},
   "outputs": [
    {
     "data": {
      "text/plain": [
       "(2058, 35)"
      ]
     },
     "execution_count": 72,
     "metadata": {},
     "output_type": "execute_result"
    }
   ],
   "source": [
    "df.shape"
   ]
  },
  {
   "cell_type": "code",
   "execution_count": 99,
   "metadata": {},
   "outputs": [
    {
     "data": {
      "text/plain": [
       "['Attrition',\n",
       " 'Age',\n",
       " 'BusinessTravel',\n",
       " 'DailyRate',\n",
       " 'Department',\n",
       " 'DistanceFromHome',\n",
       " 'Education',\n",
       " 'EducationField',\n",
       " 'EmployeeCount',\n",
       " 'EmployeeNumber',\n",
       " 'EnvironmentSatisfaction',\n",
       " 'Gender',\n",
       " 'HourlyRate',\n",
       " 'JobInvolvement',\n",
       " 'JobLevel',\n",
       " 'JobRole',\n",
       " 'JobSatisfaction',\n",
       " 'MaritalStatus',\n",
       " 'MonthlyIncome',\n",
       " 'MonthlyRate',\n",
       " 'NumCompaniesWorked',\n",
       " 'Over18',\n",
       " 'OverTime',\n",
       " 'PercentSalaryHike',\n",
       " 'PerformanceRating',\n",
       " 'RelationshipSatisfaction',\n",
       " 'StandardHours',\n",
       " 'StockOptionLevel',\n",
       " 'TotalWorkingYears',\n",
       " 'TrainingTimesLastYear',\n",
       " 'WorkLifeBalance',\n",
       " 'YearsAtCompany',\n",
       " 'YearsInCurrentRole',\n",
       " 'YearsSinceLastPromotion',\n",
       " 'YearsWithCurrManager']"
      ]
     },
     "execution_count": 99,
     "metadata": {},
     "output_type": "execute_result"
    }
   ],
   "source": [
    "list(df.columns)"
   ]
  },
  {
   "cell_type": "markdown",
   "metadata": {},
   "source": [
    "# Both categorical and numerical data are in int format, convert into proper formates"
   ]
  },
  {
   "cell_type": "code",
   "execution_count": 73,
   "metadata": {
    "collapsed": true
   },
   "outputs": [],
   "source": [
    "df[['Age','BusinessTravel','Department','Education','EducationField','EmployeeCount','Gender','JobLevel','JobRole','JobSatisfaction','MaritalStatus','NumCompaniesWorked','Over18','PerformanceRating','RelationshipSatisfaction','StockOptionLevel','WorkLifeBalance']] = df[['Age','BusinessTravel','Department','Education','EducationField','EmployeeCount','Gender','JobLevel','JobRole','JobSatisfaction','MaritalStatus','NumCompaniesWorked','Over18','PerformanceRating','RelationshipSatisfaction','StockOptionLevel','WorkLifeBalance']].astype('object')"
   ]
  },
  {
   "cell_type": "code",
   "execution_count": 74,
   "metadata": {
    "scrolled": true
   },
   "outputs": [
    {
     "data": {
      "text/plain": [
       "Attrition                   0\n",
       "Age                         0\n",
       "BusinessTravel              0\n",
       "DailyRate                   0\n",
       "Department                  0\n",
       "DistanceFromHome            0\n",
       "Education                   0\n",
       "EducationField              0\n",
       "EmployeeCount               0\n",
       "EmployeeNumber              0\n",
       "EnvironmentSatisfaction     0\n",
       "Gender                      0\n",
       "HourlyRate                  0\n",
       "JobInvolvement              0\n",
       "JobLevel                    0\n",
       "JobRole                     0\n",
       "JobSatisfaction             0\n",
       "MaritalStatus               0\n",
       "MonthlyIncome               0\n",
       "MonthlyRate                 0\n",
       "NumCompaniesWorked          0\n",
       "Over18                      0\n",
       "OverTime                    0\n",
       "PercentSalaryHike           0\n",
       "PerformanceRating           0\n",
       "RelationshipSatisfaction    0\n",
       "StandardHours               0\n",
       "StockOptionLevel            0\n",
       "TotalWorkingYears           0\n",
       "TrainingTimesLastYear       0\n",
       "WorkLifeBalance             0\n",
       "YearsAtCompany              0\n",
       "YearsInCurrentRole          0\n",
       "YearsSinceLastPromotion     0\n",
       "YearsWithCurrManager        0\n",
       "dtype: int64"
      ]
     },
     "execution_count": 74,
     "metadata": {},
     "output_type": "execute_result"
    }
   ],
   "source": [
    "df.isnull().sum()"
   ]
  },
  {
   "cell_type": "markdown",
   "metadata": {},
   "source": [
    "# Correlation Matrix"
   ]
  },
  {
   "cell_type": "code",
   "execution_count": 75,
   "metadata": {
    "collapsed": true
   },
   "outputs": [],
   "source": [
    "import seaborn as sns\n",
    "import matplotlib.pyplot as plt"
   ]
  },
  {
   "cell_type": "code",
   "execution_count": 76,
   "metadata": {},
   "outputs": [
    {
     "data": {
      "image/png": "[encoded data removed]",
      "text/plain": [
       "<matplotlib.figure.Figure at 0x16c16ae69e8>"
      ]
     },
     "metadata": {},
     "output_type": "display_data"
    }
   ],
   "source": [
    "sns.barplot(df['StandardHours'])\n",
    "plt.show()"
   ]
  },
  {
   "cell_type": "markdown",
   "metadata": {},
   "source": [
    "StandardHours is contant throughout and hence, it does not convey any information. Thus, drop it in modeling"
   ]
  },
  {
   "cell_type": "code",
   "execution_count": 77,
   "metadata": {
    "collapsed": true
   },
   "outputs": [],
   "source": [
    "df_corr = df.drop(['StandardHours','Attrition'],axis = 1).corr()"
   ]
  },
  {
   "cell_type": "code",
   "execution_count": 78,
   "metadata": {
    "scrolled": true
   },
   "outputs": [
    {
     "data": {
      "image/png": "[encoded data removed]",
      "text/plain": [
       "<matplotlib.figure.Figure at 0x16c1525d278>"
      ]
     },
     "metadata": {},
     "output_type": "display_data"
    }
   ],
   "source": [
    "plt.subplots(figsize=(22,15))\n",
    "sns.heatmap(df_corr, cmap='GnBu', annot=True)\n",
    "plt.show()"
   ]
  },
  {
   "cell_type": "markdown",
   "metadata": {},
   "source": [
    "1. StandardHours is same for all employee, hence drop it\n",
    "2. YearsWithCurrManager is moderately +ve correlated with YearsSinceLastPromotion\n",
    "3. YearsWithCurrManager is highly +ve correlated with YearsInCurrentRole\n",
    "4. YearsWithCurrManager is highly correlated with YearsAtCompany\n",
    "5. YearsWithCurrManager is moderatly +ve correlated with TotalWorkingYears\n",
    "6. YearsWithCurrManager is +ve correlated with MonthlyIncome\n",
    "7. YearsSinceLastPromotion is +ve correlated with MonthlyIncome\n",
    "8. YearsSinceLastPromotion is +ve correlated with TotalWorkingYears\n",
    "9. YearsSinceLastPromotion is moderately +ve correlated with YearsAtCompany\n",
    "10. YearsSinceLastPromotion is moderately +ve correlated with YearsInCurrentRole\n",
    "11. YearsInCurrentRole is +ve correlated with MonthlyIncome\n",
    "12. YearsInCurrentRole is +ve correlated with TotalWorkingYears\n",
    "13. YearsInCurrentRole is highly +ve correlated with YearsAtCompany\n",
    "14. YearsAtCompany is +ve correlated with MonthlyIncome\n",
    "15. YearsAtCompany is highly +ve correlated with TotalWorkingYears\n",
    "16. TotalWorkingYears is highly +ve correlated with MonthlyIncome "
   ]
  },
  {
   "cell_type": "markdown",
   "metadata": {},
   "source": [
    "As it's confusing to select features we shall use PCA for auto selection "
   ]
  },
  {
   "cell_type": "code",
   "execution_count": 79,
   "metadata": {
    "collapsed": true
   },
   "outputs": [],
   "source": [
    "X = df.drop(['StandardHours', 'Attrition'], axis = 1)"
   ]
  },
  {
   "cell_type": "code",
   "execution_count": 80,
   "metadata": {
    "collapsed": true
   },
   "outputs": [],
   "source": [
    "y = df['Attrition']"
   ]
  },
  {
   "cell_type": "code",
   "execution_count": 81,
   "metadata": {
    "collapsed": true
   },
   "outputs": [],
   "source": [
    "def ScaleFeature (x):\n",
    "    from sklearn.preprocessing import  StandardScaler\n",
    "    if (x.dtype.name != 'object'):\n",
    "        scale = StandardScaler()\n",
    "        x = x.astype('float') \n",
    "        x = scale.fit_transform(x.values.reshape(-1,1))\n",
    "        return (x.reshape(len(x),))\n",
    "    else:\n",
    "        return(x)\n",
    "        "
   ]
  },
  {
   "cell_type": "code",
   "execution_count": 82,
   "metadata": {
    "scrolled": true
   },
   "outputs": [],
   "source": [
    "dummy = pd.DataFrame()\n",
    "for eachfeature in list(X.columns):\n",
    "    dummy[eachfeature] = ScaleFeature(X[eachfeature])\n",
    "X = pd.DataFrame(dummy)"
   ]
  },
  {
   "cell_type": "code",
   "execution_count": 83,
   "metadata": {},
   "outputs": [
    {
     "data": {
      "text/html": [
       "<div>\n",
       "<style>\n",
       "    .dataframe thead tr:only-child th {\n",
       "        text-align: right;\n",
       "    }\n",
       "\n",
       "    .dataframe thead th {\n",
       "        text-align: left;\n",
       "    }\n",
       "\n",
       "    .dataframe tbody tr th {\n",
       "        vertical-align: top;\n",
       "    }\n",
       "</style>\n",
       "<table border=\"1\" class=\"dataframe\">\n",
       "  <thead>\n",
       "    <tr style=\"text-align: right;\">\n",
       "      <th></th>\n",
       "      <th>Age</th>\n",
       "      <th>BusinessTravel</th>\n",
       "      <th>DailyRate</th>\n",
       "      <th>Department</th>\n",
       "      <th>DistanceFromHome</th>\n",
       "      <th>Education</th>\n",
       "      <th>EducationField</th>\n",
       "      <th>EmployeeCount</th>\n",
       "      <th>EmployeeNumber</th>\n",
       "      <th>EnvironmentSatisfaction</th>\n",
       "      <th>...</th>\n",
       "      <th>PerformanceRating</th>\n",
       "      <th>RelationshipSatisfaction</th>\n",
       "      <th>StockOptionLevel</th>\n",
       "      <th>TotalWorkingYears</th>\n",
       "      <th>TrainingTimesLastYear</th>\n",
       "      <th>WorkLifeBalance</th>\n",
       "      <th>YearsAtCompany</th>\n",
       "      <th>YearsInCurrentRole</th>\n",
       "      <th>YearsSinceLastPromotion</th>\n",
       "      <th>YearsWithCurrManager</th>\n",
       "    </tr>\n",
       "  </thead>\n",
       "  <tbody>\n",
       "    <tr>\n",
       "      <th>0</th>\n",
       "      <td>41</td>\n",
       "      <td>1</td>\n",
       "      <td>0.747513</td>\n",
       "      <td>2</td>\n",
       "      <td>-1.009027</td>\n",
       "      <td>2</td>\n",
       "      <td>4</td>\n",
       "      <td>1</td>\n",
       "      <td>-1.756410</td>\n",
       "      <td>-0.653618</td>\n",
       "      <td>...</td>\n",
       "      <td>3</td>\n",
       "      <td>1</td>\n",
       "      <td>0</td>\n",
       "      <td>-0.430575</td>\n",
       "      <td>-2.150070</td>\n",
       "      <td>1</td>\n",
       "      <td>-0.160696</td>\n",
       "      <td>-0.064891</td>\n",
       "      <td>-0.673097</td>\n",
       "      <td>0.247192</td>\n",
       "    </tr>\n",
       "    <tr>\n",
       "      <th>1</th>\n",
       "      <td>37</td>\n",
       "      <td>1</td>\n",
       "      <td>1.424117</td>\n",
       "      <td>0</td>\n",
       "      <td>-0.884756</td>\n",
       "      <td>2</td>\n",
       "      <td>5</td>\n",
       "      <td>1</td>\n",
       "      <td>-1.754054</td>\n",
       "      <td>1.177758</td>\n",
       "      <td>...</td>\n",
       "      <td>3</td>\n",
       "      <td>2</td>\n",
       "      <td>0</td>\n",
       "      <td>-0.558720</td>\n",
       "      <td>0.164986</td>\n",
       "      <td>3</td>\n",
       "      <td>-1.148389</td>\n",
       "      <td>-1.159533</td>\n",
       "      <td>-0.673097</td>\n",
       "      <td>-1.140482</td>\n",
       "    </tr>\n",
       "    <tr>\n",
       "      <th>2</th>\n",
       "      <td>32</td>\n",
       "      <td>2</td>\n",
       "      <td>0.505333</td>\n",
       "      <td>0</td>\n",
       "      <td>-0.884756</td>\n",
       "      <td>2</td>\n",
       "      <td>4</td>\n",
       "      <td>1</td>\n",
       "      <td>-1.750521</td>\n",
       "      <td>1.177758</td>\n",
       "      <td>...</td>\n",
       "      <td>3</td>\n",
       "      <td>3</td>\n",
       "      <td>0</td>\n",
       "      <td>-0.430575</td>\n",
       "      <td>-0.606699</td>\n",
       "      <td>2</td>\n",
       "      <td>0.003919</td>\n",
       "      <td>0.756090</td>\n",
       "      <td>0.241450</td>\n",
       "      <td>0.524727</td>\n",
       "    </tr>\n",
       "    <tr>\n",
       "      <th>3</th>\n",
       "      <td>59</td>\n",
       "      <td>1</td>\n",
       "      <td>1.301779</td>\n",
       "      <td>0</td>\n",
       "      <td>-0.760484</td>\n",
       "      <td>3</td>\n",
       "      <td>3</td>\n",
       "      <td>1</td>\n",
       "      <td>-1.749343</td>\n",
       "      <td>0.262070</td>\n",
       "      <td>...</td>\n",
       "      <td>4</td>\n",
       "      <td>1</td>\n",
       "      <td>3</td>\n",
       "      <td>0.082005</td>\n",
       "      <td>0.164986</td>\n",
       "      <td>2</td>\n",
       "      <td>-0.983774</td>\n",
       "      <td>-1.159533</td>\n",
       "      <td>-0.673097</td>\n",
       "      <td>-1.140482</td>\n",
       "    </tr>\n",
       "    <tr>\n",
       "      <th>4</th>\n",
       "      <td>30</td>\n",
       "      <td>1</td>\n",
       "      <td>1.386667</td>\n",
       "      <td>0</td>\n",
       "      <td>1.849219</td>\n",
       "      <td>1</td>\n",
       "      <td>4</td>\n",
       "      <td>1</td>\n",
       "      <td>-1.748165</td>\n",
       "      <td>1.177758</td>\n",
       "      <td>...</td>\n",
       "      <td>4</td>\n",
       "      <td>2</td>\n",
       "      <td>1</td>\n",
       "      <td>-1.327590</td>\n",
       "      <td>-0.606699</td>\n",
       "      <td>3</td>\n",
       "      <td>-0.983774</td>\n",
       "      <td>-1.159533</td>\n",
       "      <td>-0.673097</td>\n",
       "      <td>-1.140482</td>\n",
       "    </tr>\n",
       "  </tbody>\n",
       "</table>\n",
       "<p>5 rows × 33 columns</p>\n",
       "</div>"
      ],
      "text/plain": [
       "  Age BusinessTravel  DailyRate Department  DistanceFromHome Education  \\\n",
       "0  41              1   0.747513          2         -1.009027         2   \n",
       "1  37              1   1.424117          0         -0.884756         2   \n",
       "2  32              2   0.505333          0         -0.884756         2   \n",
       "3  59              1   1.301779          0         -0.760484         3   \n",
       "4  30              1   1.386667          0          1.849219         1   \n",
       "\n",
       "  EducationField EmployeeCount  EmployeeNumber  EnvironmentSatisfaction  \\\n",
       "0              4             1       -1.756410                -0.653618   \n",
       "1              5             1       -1.754054                 1.177758   \n",
       "2              4             1       -1.750521                 1.177758   \n",
       "3              3             1       -1.749343                 0.262070   \n",
       "4              4             1       -1.748165                 1.177758   \n",
       "\n",
       "          ...          PerformanceRating  RelationshipSatisfaction  \\\n",
       "0         ...                          3                         1   \n",
       "1         ...                          3                         2   \n",
       "2         ...                          3                         3   \n",
       "3         ...                          4                         1   \n",
       "4         ...                          4                         2   \n",
       "\n",
       "   StockOptionLevel TotalWorkingYears TrainingTimesLastYear WorkLifeBalance  \\\n",
       "0                 0         -0.430575             -2.150070               1   \n",
       "1                 0         -0.558720              0.164986               3   \n",
       "2                 0         -0.430575             -0.606699               2   \n",
       "3                 3          0.082005              0.164986               2   \n",
       "4                 1         -1.327590             -0.606699               3   \n",
       "\n",
       "  YearsAtCompany  YearsInCurrentRole  YearsSinceLastPromotion  \\\n",
       "0      -0.160696           -0.064891                -0.673097   \n",
       "1      -1.148389           -1.159533                -0.673097   \n",
       "2       0.003919            0.756090                 0.241450   \n",
       "3      -0.983774           -1.159533                -0.673097   \n",
       "4      -0.983774           -1.159533                -0.673097   \n",
       "\n",
       "  YearsWithCurrManager  \n",
       "0             0.247192  \n",
       "1            -1.140482  \n",
       "2             0.524727  \n",
       "3            -1.140482  \n",
       "4            -1.140482  \n",
       "\n",
       "[5 rows x 33 columns]"
      ]
     },
     "execution_count": 83,
     "metadata": {},
     "output_type": "execute_result"
    }
   ],
   "source": [
    "X.head()"
   ]
  },
  {
   "cell_type": "markdown",
   "metadata": {
    "collapsed": true
   },
   "source": [
    "# Data Preparation, Training and Testing"
   ]
  },
  {
   "cell_type": "markdown",
   "metadata": {},
   "source": [
    "Split data into training and testing set in ratio of 80:20"
   ]
  },
  {
   "cell_type": "code",
   "execution_count": 84,
   "metadata": {
    "collapsed": true
   },
   "outputs": [],
   "source": [
    "from sklearn.model_selection import  train_test_split\n",
    "train_X, test_X, train_Y, test_Y = train_test_split(X, y, stratify = y, test_size = 0.2)"
   ]
  },
  {
   "cell_type": "code",
   "execution_count": 85,
   "metadata": {
    "collapsed": true
   },
   "outputs": [],
   "source": [
    "from sklearn.decomposition import  PCA\n",
    "from sklearn.model_selection import cross_val_score\n",
    "from sklearn.ensemble import RandomForestClassifier\n",
    "from sklearn.pipeline import Pipeline\n",
    "from sklearn.metrics import  accuracy_score, confusion_matrix, classification_report"
   ]
  },
  {
   "cell_type": "code",
   "execution_count": 86,
   "metadata": {},
   "outputs": [],
   "source": [
    "pipe = Pipeline(steps = [('pca',PCA()), ('RF',RandomForestClassifier())])"
   ]
  },
  {
   "cell_type": "code",
   "execution_count": 87,
   "metadata": {},
   "outputs": [
    {
     "name": "stdout",
     "output_type": "stream",
     "text": [
      "Train Score 0.9896719319562576\n",
      "Test Score 0.8786407766990292\n"
     ]
    }
   ],
   "source": [
    "pipe.fit(train_X, train_Y)\n",
    "print('Train Score {}'.format(accuracy_score(train_Y, pipe.predict(train_X))))\n",
    "print('Test Score {}'.format(accuracy_score(test_Y, pipe.predict(test_X))))"
   ]
  },
  {
   "cell_type": "markdown",
   "metadata": {},
   "source": [
    "Verify train accuracy using kfold cross validation method"
   ]
  },
  {
   "cell_type": "code",
   "execution_count": 88,
   "metadata": {},
   "outputs": [
    {
     "name": "stdout",
     "output_type": "stream",
     "text": [
      "Accuracy in each iterations [ 0.89090909  0.87272727  0.89090909  0.85454545  0.86060606  0.84242424\n",
      "  0.87804878  0.88414634  0.87195122  0.88414634]\n",
      "\n",
      "\n",
      "Average Accuracy is 0.8730413895048041\n"
     ]
    }
   ],
   "source": [
    "kfold = 10 # an estimate is taken condering data size\n",
    "estimate = cross_val_score(estimator = pipe, X = train_X, y = train_Y, scoring = 'accuracy', cv = kfold, n_jobs= 1)\n",
    "# cv indicates k-fold value/ no. of iterations\n",
    "# n_jobs = -1 will use all CPUs available\n",
    "print('Accuracy in each iterations {}'.format(estimate))\n",
    "print('\\n')\n",
    "print('Average Accuracy is {}'.format(estimate.mean()))"
   ]
  },
  {
   "cell_type": "markdown",
   "metadata": {},
   "source": [
    "### Confusion matrix, precision, recall and f1-score"
   ]
  },
  {
   "cell_type": "code",
   "execution_count": 89,
   "metadata": {},
   "outputs": [
    {
     "name": "stdout",
     "output_type": "stream",
     "text": [
      "[[343   3]\n",
      " [ 47  19]]\n"
     ]
    }
   ],
   "source": [
    "print(confusion_matrix(test_Y, pipe.predict(test_X)))"
   ]
  },
  {
   "cell_type": "code",
   "execution_count": 90,
   "metadata": {},
   "outputs": [
    {
     "name": "stdout",
     "output_type": "stream",
     "text": [
      "             precision    recall  f1-score   support\n",
      "\n",
      "          0       0.88      0.99      0.93       346\n",
      "          1       0.86      0.29      0.43        66\n",
      "\n",
      "avg / total       0.88      0.88      0.85       412\n",
      "\n"
     ]
    }
   ],
   "source": [
    "print(classification_report(test_Y, pipe.predict(test_X)))"
   ]
  },
  {
   "cell_type": "markdown",
   "metadata": {},
   "source": [
    "#### Accuracy difference between 'Train Score' and 'Average Accuracy' is approx. 10. Assuming '10' as large value indicates, 'pipe' model is over-fitted. To handle overfitting - let's try out finding optimal hyperparameters using GridSearchCV."
   ]
  },
  {
   "cell_type": "markdown",
   "metadata": {},
   "source": [
    "### Finding Optimal Parameters using GridSearchCV"
   ]
  },
  {
   "cell_type": "code",
   "execution_count": 91,
   "metadata": {},
   "outputs": [
    {
     "data": {
      "text/plain": [
       "RandomForestClassifier(bootstrap=True, class_weight=None, criterion='gini',\n",
       "            max_depth=None, max_features='auto', max_leaf_nodes=None,\n",
       "            min_impurity_decrease=0.0, min_impurity_split=None,\n",
       "            min_samples_leaf=1, min_samples_split=2,\n",
       "            min_weight_fraction_leaf=0.0, n_estimators=10, n_jobs=1,\n",
       "            oob_score=False, random_state=None, verbose=0,\n",
       "            warm_start=False)"
      ]
     },
     "execution_count": 91,
     "metadata": {},
     "output_type": "execute_result"
    }
   ],
   "source": [
    "RandomForestClassifier()\n",
    "# min_samples_leaf, max_features"
   ]
  },
  {
   "cell_type": "code",
   "execution_count": 92,
   "metadata": {},
   "outputs": [
    {
     "data": {
      "text/plain": [
       "PCA(copy=True, iterated_power='auto', n_components=None, random_state=None,\n",
       "  svd_solver='auto', tol=0.0, whiten=False)"
      ]
     },
     "execution_count": 92,
     "metadata": {},
     "output_type": "execute_result"
    }
   ],
   "source": [
    "PCA() \n",
    "# n_components is key parameter "
   ]
  },
  {
   "cell_type": "code",
   "execution_count": 93,
   "metadata": {},
   "outputs": [
    {
     "data": {
      "text/plain": [
       "{'pca__n_components': 10}"
      ]
     },
     "execution_count": 93,
     "metadata": {},
     "output_type": "execute_result"
    }
   ],
   "source": [
    "from sklearn.model_selection import  GridSearchCV\n",
    "N_FEATURES_OPTIONS = [1,10, 20, 30]\n",
    "max_features_option = [1, 3, 5, 10, 15, 20, 15, 30]\n",
    "param_grid = [\n",
    "    {\n",
    "        'pca__n_components': N_FEATURES_OPTIONS\n",
    "    },\n",
    "    {\n",
    "        'RF__max_features': max_features_option\n",
    "    },\n",
    "]\n",
    "\n",
    "grid_estimator = GridSearchCV(estimator= pipe, \n",
    "                              param_grid= param_grid, n_jobs = 1)\n",
    "grid_estimator.fit(train_X,train_Y)\n",
    "grid_estimator.best_params_"
   ]
  },
  {
   "cell_type": "markdown",
   "metadata": {},
   "source": [
    "pca with n_components = 30 and rest default parameters are estimated to be best hyperparameters"
   ]
  },
  {
   "cell_type": "markdown",
   "metadata": {},
   "source": [
    "# Re-fitting model with optimal hyper-parameters"
   ]
  },
  {
   "cell_type": "code",
   "execution_count": 94,
   "metadata": {
    "collapsed": true
   },
   "outputs": [],
   "source": [
    "pipe = Pipeline(steps = [('pca',PCA(n_components = 30)), ('RF',RandomForestClassifier())])"
   ]
  },
  {
   "cell_type": "code",
   "execution_count": 95,
   "metadata": {},
   "outputs": [
    {
     "name": "stdout",
     "output_type": "stream",
     "text": [
      "Train Score 0.9896719319562576\n",
      "Test Score 0.8713592233009708\n"
     ]
    }
   ],
   "source": [
    "pipe.fit(train_X, train_Y)\n",
    "print('Train Score {}'.format(accuracy_score(train_Y, pipe.predict(train_X))))\n",
    "print('Test Score {}'.format(accuracy_score(test_Y, pipe.predict(test_X))))"
   ]
  },
  {
   "cell_type": "code",
   "execution_count": 96,
   "metadata": {},
   "outputs": [
    {
     "name": "stdout",
     "output_type": "stream",
     "text": [
      "Accuracy in each iterations [ 0.87272727  0.86666667  0.88484848  0.86666667  0.86666667  0.84848485\n",
      "  0.87195122  0.90243902  0.87804878  0.8902439 ]\n",
      "\n",
      "\n",
      "Average Accuracy is 0.8748743532889873\n"
     ]
    }
   ],
   "source": [
    "kfold = 10 # an estimate is taken condering data size\n",
    "estimate = cross_val_score(estimator = pipe, X = train_X, y = train_Y, scoring = 'accuracy', cv = kfold, n_jobs= 1)\n",
    "# cv indicates k-fold value/ no. of iterations\n",
    "# n_jobs = -1 will use all CPUs available\n",
    "print('Accuracy in each iterations {}'.format(estimate))\n",
    "print('\\n')\n",
    "print('Average Accuracy is {}'.format(estimate.mean()))"
   ]
  },
  {
   "cell_type": "markdown",
   "metadata": {},
   "source": [
    "Slightest improvement in accuracy with n_components = 30"
   ]
  },
  {
   "cell_type": "markdown",
   "metadata": {},
   "source": [
    "# Model Evaluation"
   ]
  },
  {
   "cell_type": "markdown",
   "metadata": {},
   "source": [
    "### Confusion matrix, precision, recall and f1 score"
   ]
  },
  {
   "cell_type": "code",
   "execution_count": 97,
   "metadata": {},
   "outputs": [
    {
     "name": "stdout",
     "output_type": "stream",
     "text": [
      "[[342   4]\n",
      " [ 49  17]]\n"
     ]
    }
   ],
   "source": [
    "print(confusion_matrix(test_Y, pipe.predict(test_X)))"
   ]
  },
  {
   "cell_type": "code",
   "execution_count": 98,
   "metadata": {},
   "outputs": [
    {
     "name": "stdout",
     "output_type": "stream",
     "text": [
      "             precision    recall  f1-score   support\n",
      "\n",
      "          0       0.87      0.99      0.93       346\n",
      "          1       0.81      0.26      0.39        66\n",
      "\n",
      "avg / total       0.86      0.87      0.84       412\n",
      "\n"
     ]
    }
   ],
   "source": [
    "print(classification_report(test_Y, pipe.predict(test_X)))"
   ]
  },
  {
   "cell_type": "markdown",
   "metadata": {},
   "source": [
    "#Interpretation - \n",
    "#86% of the negative samples are not classfied as postive\n",
    "#87% of positive samples are correctly classified\n",
    "#Average weight of precision and recall is 83 percentage"
   ]
  }
 ],
 "metadata": {
  "kernelspec": {
   "display_name": "Python 3",
   "language": "python",
   "name": "python3"
  },
  "language_info": {
   "codemirror_mode": {
    "name": "ipython",
    "version": 3
   },
   "file_extension": ".py",
   "mimetype": "text/x-python",
   "name": "python",
   "nbconvert_exporter": "python",
   "pygments_lexer": "ipython3",
   "version": "3.6.3"
  }
 },
 "nbformat": 4,
 "nbformat_minor": 2
}
