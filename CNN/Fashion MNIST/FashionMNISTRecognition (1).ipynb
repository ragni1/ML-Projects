{
  "nbformat": 4,
  "nbformat_minor": 0,
  "metadata": {
    "colab": {
      "name": "FashionMNISTRecognition.ipynb",
      "version": "0.3.2",
      "provenance": [],
      "collapsed_sections": []
    },
    "kernelspec": {
      "name": "python3",
      "display_name": "Python 3"
    },
    "accelerator": "GPU"
  },
  "cells": [
    {
      "metadata": {
        "id": "Pu1DXCwOio-d",
        "colab_type": "text"
      },
      "cell_type": "markdown",
      "source": [
        "## Fashion MNIST Recognition with Keras (Tensorflow)\n",
        "\n"
      ]
    },
    {
      "metadata": {
        "id": "1NzZKV7tlPCw",
        "colab_type": "text"
      },
      "cell_type": "markdown",
      "source": [
        "Fashion MNIST (https://github.com/zalandoresearch/fashion-mnist\n",
        ")is intended as a drop-in replacement for the classic MNIST dataset—often used as the \"Hello, World\" of machine learning programs for computer vision. The MNIST dataset contains images of handwritten digits (0, 1, 2, etc) in an identical format to the articles of clothing we'll use here."
      ]
    },
    {
      "metadata": {
        "id": "wPZhWd7pjqEo",
        "colab_type": "text"
      },
      "cell_type": "markdown",
      "source": [
        "We will use 60,000 images to train the network and 10,000 images to evaluate how accurately the network learned to classify images. You can access the Fashion MNIST directly from TensorFlow, just import and load the data:"
      ]
    },
    {
      "metadata": {
        "id": "m4OZlQPklN_N",
        "colab_type": "code",
        "outputId": "78b23ed2-40c3-4f2f-9e27-9d48346d98d6",
        "colab": {
          "base_uri": "https://localhost:8080/",
          "height": 51
        }
      },
      "cell_type": "code",
      "source": [
        "import os\n",
        "import random\n",
        "import pandas as pd\n",
        "import skimage.data\n",
        "import skimage.transform\n",
        "import matplotlib\n",
        "import matplotlib.pyplot as plt\n",
        "import numpy as np\n",
        "import tensorflow as tf\n",
        "import keras\n",
        "\n",
        "# Allow image embeding in notebook\n",
        "%matplotlib inline\n",
        "# Tensorflow version \n",
        "print(tf.__version__)"
      ],
      "execution_count": 1,
      "outputs": [
        {
          "output_type": "stream",
          "text": [
            "1.12.0\n"
          ],
          "name": "stdout"
        },
        {
          "output_type": "stream",
          "text": [
            "Using TensorFlow backend.\n"
          ],
          "name": "stderr"
        }
      ]
    },
    {
      "metadata": {
        "id": "IfYEexYXlxNW",
        "colab_type": "text"
      },
      "cell_type": "markdown",
      "source": [
        "### Parse and load the dataset"
      ]
    },
    {
      "metadata": {
        "id": "0gi28Dslih_v",
        "colab_type": "code",
        "colab": {}
      },
      "cell_type": "code",
      "source": [
        "def load_data():\n",
        "    fashion_mnist = keras.datasets.fashion_mnist\n",
        "    (train_images, train_labels), (test_images, test_labels) = fashion_mnist.load_data()\n",
        "    return (train_images, train_labels), (test_images, test_labels)"
      ],
      "execution_count": 0,
      "outputs": []
    },
    {
      "metadata": {
        "id": "dItZg1_FmEJI",
        "colab_type": "text"
      },
      "cell_type": "markdown",
      "source": [
        "\n",
        "   ** images** :  a list of images, each image is represted by a numpy array.\n",
        "   \n",
        "  **labels** :  a list of labels. Integers with values between 0 and 10.\n"
      ]
    },
    {
      "metadata": {
        "id": "jJVor7G4l3iY",
        "colab_type": "code",
        "colab": {
          "base_uri": "https://localhost:8080/",
          "height": 153
        },
        "outputId": "8742db5b-accf-4a9b-ec99-b543ac09473f"
      },
      "cell_type": "code",
      "source": [
        "# Load training and testing datasets.\n",
        "(train_images, train_labels), (test_images, test_labels) = load_data()"
      ],
      "execution_count": 4,
      "outputs": [
        {
          "output_type": "stream",
          "text": [
            "Downloading data from http://fashion-mnist.s3-website.eu-central-1.amazonaws.com/train-labels-idx1-ubyte.gz\n",
            "32768/29515 [=================================] - 0s 3us/step\n",
            "Downloading data from http://fashion-mnist.s3-website.eu-central-1.amazonaws.com/train-images-idx3-ubyte.gz\n",
            "26427392/26421880 [==============================] - 2s 0us/step\n",
            "Downloading data from http://fashion-mnist.s3-website.eu-central-1.amazonaws.com/t10k-labels-idx1-ubyte.gz\n",
            "8192/5148 [===============================================] - 0s 0us/step\n",
            "Downloading data from http://fashion-mnist.s3-website.eu-central-1.amazonaws.com/t10k-images-idx3-ubyte.gz\n",
            "4423680/4422102 [==============================] - 1s 0us/step\n"
          ],
          "name": "stdout"
        }
      ]
    },
    {
      "metadata": {
        "id": "viT-aEJol27q",
        "colab_type": "text"
      },
      "cell_type": "markdown",
      "source": [
        "### Explore the Dataset\n",
        "\n",
        "How many images and labels does it have?\n",
        "\n",
        "Display the first image of each label."
      ]
    },
    {
      "metadata": {
        "id": "kLlPpbp7YgTk",
        "colab_type": "code",
        "colab": {
          "base_uri": "https://localhost:8080/",
          "height": 85
        },
        "outputId": "3e652f69-fbdd-4ace-9e49-a7c98ed46867"
      },
      "cell_type": "code",
      "source": [
        "print('X: Training Size: {}'.format(train_images.shape))\n",
        "print('X: Test Size:     {}'.format(test_images.shape))\n",
        "print('Y: Training Size: {}'.format(train_labels.shape))\n",
        "print('Y: Test Size:     {}'.format(test_labels.shape))"
      ],
      "execution_count": 8,
      "outputs": [
        {
          "output_type": "stream",
          "text": [
            "X: Training Size: (60000, 28, 28)\n",
            "X: Test Size:     (10000, 28, 28)\n",
            "Y: Training Size: (60000,)\n",
            "Y: Test Size:     (10000,)\n"
          ],
          "name": "stdout"
        }
      ]
    },
    {
      "metadata": {
        "id": "N8qa-yrdZGzl",
        "colab_type": "text"
      },
      "cell_type": "markdown",
      "source": [
        "The images are 28x28 NumPy arrays, with pixel values ranging between 0 and 255. The labels are an array of integers, ranging from 0 to 9. \n",
        "\n",
        "## **Images Preprocessing**\n",
        "\n",
        "Mapping images from 0-255 scale to 0-1 scale."
      ]
    },
    {
      "metadata": {
        "id": "fsxx7iD0aPGY",
        "colab_type": "code",
        "colab": {
          "base_uri": "https://localhost:8080/",
          "height": 265
        },
        "outputId": "42f6be40-b9bf-4801-e060-adb180849781"
      },
      "cell_type": "code",
      "source": [
        "plt.figure()\n",
        "plt.imshow(train_images[1])\n",
        "plt.colorbar()\n",
        "plt.grid(False)"
      ],
      "execution_count": 18,
      "outputs": [
        {
          "output_type": "display_data",
          "data": {
            "image/png": "[encoded data removed]",
            "text/plain": [
              "<matplotlib.figure.Figure at 0x7f17b4889668>"
            ]
          },
          "metadata": {
            "tags": []
          }
        }
      ]
    },
    {
      "metadata": {
        "id": "774o0VlLcOgG",
        "colab_type": "code",
        "colab": {}
      },
      "cell_type": "code",
      "source": [
        "train_images = train_images / 255.0\n",
        "\n",
        "test_images = test_images / 255.0"
      ],
      "execution_count": 0,
      "outputs": []
    },
    {
      "metadata": {
        "id": "nGxMQ4kQcVP1",
        "colab_type": "code",
        "colab": {
          "base_uri": "https://localhost:8080/",
          "height": 269
        },
        "outputId": "2e3bd16f-e68c-430d-dc1c-cbd6b20b3342"
      },
      "cell_type": "code",
      "source": [
        "plt.figure()\n",
        "plt.imshow(train_images[1])\n",
        "plt.colorbar()\n",
        "plt.grid(False)"
      ],
      "execution_count": 20,
      "outputs": [
        {
          "output_type": "display_data",
          "data": {
            "image/png": "[encoded data removed]",
            "text/plain": [
              "<matplotlib.figure.Figure at 0x7f17b1fe65c0>"
            ]
          },
          "metadata": {
            "tags": []
          }
        }
      ]
    },
    {
      "metadata": {
        "id": "8MVd7pFImosl",
        "colab_type": "code",
        "outputId": "21732211-5c50-4f57-9b9d-989d436e49f5",
        "colab": {
          "base_uri": "https://localhost:8080/",
          "height": 589
        }
      },
      "cell_type": "code",
      "source": [
        "# Display first image of each type\n",
        "def display_images_and_labels(images, labels):\n",
        "  '''Inputs:\n",
        "  images - an array of images\n",
        "  labels - labels of each images\n",
        "  imgNum - Number of first image of each label \n",
        "  Outputs:\n",
        "  Displays imgNum of first image of each label'''\n",
        "  #################################\n",
        "  class_names = ['T-shirt/top', 'Trouser', 'Pullover', 'Dress', 'Coat', \n",
        "               'Sandal', 'Shirt', 'Sneaker', 'Bag', 'Ankle boot']\n",
        "  plt.figure(figsize=(10,10))\n",
        "  for i in range(25):\n",
        "      plt.subplot(5,5,i+1)\n",
        "      plt.xticks([])\n",
        "      plt.yticks([])\n",
        "      plt.grid(True)\n",
        "      plt.imshow(images[i], cmap=plt.cm.binary)\n",
        "      plt.xlabel(class_names[labels[i]])\n",
        "####################################\n",
        "display_images_and_labels(train_images, train_labels)  # call function"
      ],
      "execution_count": 22,
      "outputs": [
        {
          "output_type": "display_data",
          "data": {
            "image/png": "[encoded data removed]",
            "text/plain": [
              "<matplotlib.figure.Figure at 0x7f17b19f4438>"
            ]
          },
          "metadata": {
            "tags": []
          }
        }
      ]
    },
    {
      "metadata": {
        "id": "Hs80KOl5nS7P",
        "colab_type": "text"
      },
      "cell_type": "markdown",
      "source": [
        "### Create a Model"
      ]
    },
    {
      "metadata": {
        "id": "GUxtY_monSku",
        "colab_type": "code",
        "colab": {}
      },
      "cell_type": "code",
      "source": [
        "# Import tensorflow libraries\n",
        "from keras.models import Sequential\n",
        "from keras.layers import Dropout, MaxPooling2D, Dense, Conv2D, Flatten\n",
        "from keras import utils\n",
        "from keras.layers.core import Activation\n",
        "import sklearn.model_selection as sk\n",
        "\n",
        "np.random.seed(10) # to maintain data indexes\n",
        "numClasses = 10\n",
        "inputShape = (28, 28, 1) # height,width,depth (depth = 1 for this is gray scale images)\n",
        "y_train = keras.utils.to_categorical(train_labels, num_classes = numClasses)\n",
        "y_test = keras.utils.to_categorical(test_labels, num_classes = numClasses)\n"
      ],
      "execution_count": 0,
      "outputs": []
    },
    {
      "metadata": {
        "id": "D6WMFfDTJ_Lz",
        "colab_type": "code",
        "colab": {
          "base_uri": "https://localhost:8080/",
          "height": 357
        },
        "outputId": "d16487d8-2d26-4b8a-8d7a-40f74af27aed"
      },
      "cell_type": "code",
      "source": [
        "model = Sequential()\n",
        "model.add(Flatten(input_shape=(28, 28)))\n",
        "model.add(Dense(units=100, activation='relu'  ))\n",
        "model.add(Dropout(0.1)) \n",
        "model.add(Dense(units=100, activation='relu'  ))\n",
        "model.add(Dropout(0.1))\n",
        "model.add(Dense(units=100, activation='relu'  ))\n",
        "model.add(Dropout(0.3))\n",
        "\n",
        "model.add(Dense(numClasses)) # output layer\n",
        "model.add(Activation(\"softmax\")) \n",
        "\n",
        "model.compile(loss='binary_crossentropy', optimizer='rmsprop',metrics=['accuracy']) \n",
        "# For CNN, 'rmsprop' optimizer is observed to work better than all, using accuracy as performance evaluation matrix for dataset is almost balanced. \n",
        "# \"Softmax\" activation function is used in the output layer for multiclass problem.\n",
        "#  \"Dropout\" are added to avoid overfitting of the model"
      ],
      "execution_count": 41,
      "outputs": [
        {
          "output_type": "stream",
          "text": [
            "Train on 60000 samples, validate on 10000 samples\n",
            "Epoch 1/100\n",
            "60000/60000 [==============================] - 6s 97us/step - loss: 0.1064 - acc: 0.9582 - val_loss: 0.0770 - val_acc: 0.9688\n",
            "Epoch 2/100\n",
            "60000/60000 [==============================] - 5s 88us/step - loss: 0.0760 - acc: 0.9700 - val_loss: 0.0725 - val_acc: 0.9722\n",
            "Epoch 3/100\n",
            "60000/60000 [==============================] - 5s 88us/step - loss: 0.0693 - acc: 0.9725 - val_loss: 0.0682 - val_acc: 0.9732\n",
            "Epoch 4/100\n",
            "60000/60000 [==============================] - 5s 89us/step - loss: 0.0652 - acc: 0.9743 - val_loss: 0.0650 - val_acc: 0.9749\n",
            "Epoch 5/100\n",
            "60000/60000 [==============================] - 6s 92us/step - loss: 0.0630 - acc: 0.9753 - val_loss: 0.0645 - val_acc: 0.9744\n",
            "Epoch 6/100\n",
            "60000/60000 [==============================] - 5s 90us/step - loss: 0.0605 - acc: 0.9765 - val_loss: 0.0675 - val_acc: 0.9742\n",
            "Epoch 7/100\n",
            "60000/60000 [==============================] - 5s 89us/step - loss: 0.0596 - acc: 0.9768 - val_loss: 0.0623 - val_acc: 0.9767\n",
            "Epoch 8/100\n",
            "60000/60000 [==============================] - 5s 89us/step - loss: 0.0579 - acc: 0.9774 - val_loss: 0.0653 - val_acc: 0.9763\n",
            "Epoch 9/100\n",
            "60000/60000 [==============================] - 5s 87us/step - loss: 0.0572 - acc: 0.9777 - val_loss: 0.0640 - val_acc: 0.9756\n"
          ],
          "name": "stdout"
        },
        {
          "output_type": "execute_result",
          "data": {
            "text/plain": [
              "<keras.callbacks.History at 0x7f17a68accf8>"
            ]
          },
          "metadata": {
            "tags": []
          },
          "execution_count": 41
        }
      ]
    },
    {
      "metadata": {
        "id": "H6j1Ahy5nYUj",
        "colab_type": "text"
      },
      "cell_type": "markdown",
      "source": [
        "### Training"
      ]
    },
    {
      "metadata": {
        "id": "jTrjrOslnZNz",
        "colab_type": "code",
        "outputId": "4be028b5-3d20-4f34-a8d4-3b538cfe27ba",
        "colab": {
          "base_uri": "https://localhost:8080/",
          "height": 187
        }
      },
      "cell_type": "code",
      "source": [
        "callbacks = [\n",
        "  # Interrupt training if `val_loss` stops improving for over 2 epochs\n",
        "  tf.keras.callbacks.EarlyStopping(patience=2, monitor='val_loss'),\n",
        "  # Write TensorBoard logs to `./logs` directory\n",
        "  tf.keras.callbacks.TensorBoard(log_dir='./logs')\n",
        "]\n",
        "\n",
        "model.fit(train_images, y_train, batch_size=100, epochs=100, callbacks=callbacks, validation_data=(test_images, y_test))"
      ],
      "execution_count": 42,
      "outputs": [
        {
          "output_type": "stream",
          "text": [
            "Train on 60000 samples, validate on 10000 samples\n",
            "Epoch 1/100\n",
            "60000/60000 [==============================] - 5s 84us/step - loss: 0.0561 - acc: 0.9785 - val_loss: 0.0639 - val_acc: 0.9760\n",
            "Epoch 2/100\n",
            "60000/60000 [==============================] - 5s 84us/step - loss: 0.0557 - acc: 0.9784 - val_loss: 0.0631 - val_acc: 0.9765\n",
            "Epoch 3/100\n",
            "60000/60000 [==============================] - 5s 84us/step - loss: 0.0553 - acc: 0.9787 - val_loss: 0.0640 - val_acc: 0.9755\n",
            "Epoch 4/100\n",
            "60000/60000 [==============================] - 5s 85us/step - loss: 0.0547 - acc: 0.9789 - val_loss: 0.0637 - val_acc: 0.9767\n"
          ],
          "name": "stdout"
        },
        {
          "output_type": "execute_result",
          "data": {
            "text/plain": [
              "<keras.callbacks.History at 0x7f17a64e5da0>"
            ]
          },
          "metadata": {
            "tags": []
          },
          "execution_count": 42
        }
      ]
    },
    {
      "metadata": {
        "id": "DrpPwSnsnd8o",
        "colab_type": "text"
      },
      "cell_type": "markdown",
      "source": [
        "### Using the Model to make predictions"
      ]
    },
    {
      "metadata": {
        "id": "2Xk-5NaUnmEB",
        "colab_type": "code",
        "outputId": "82a2d3ed-832b-48aa-964b-6d242c5feb8c",
        "colab": {
          "base_uri": "https://localhost:8080/",
          "height": 204
        }
      },
      "cell_type": "code",
      "source": [
        "# your code here\n",
        "y_proba = model.predict(test_images, batch_size=32) \n",
        "y_classes = y_proba.argmax(axis=-1)\n",
        "# Predicted classes vs. actual classes\n",
        "dummy = pd.concat([pd.DataFrame(test_labels, columns=['Actual Classes']), pd.DataFrame(y_classes, columns = ['Predicted Classes'])], axis = 1)\n",
        "dummy.head()\n"
      ],
      "execution_count": 58,
      "outputs": [
        {
          "output_type": "execute_result",
          "data": {
            "text/html": [
              "<div>\n",
              "<style scoped>\n",
              "    .dataframe tbody tr th:only-of-type {\n",
              "        vertical-align: middle;\n",
              "    }\n",
              "\n",
              "    .dataframe tbody tr th {\n",
              "        vertical-align: top;\n",
              "    }\n",
              "\n",
              "    .dataframe thead th {\n",
              "        text-align: right;\n",
              "    }\n",
              "</style>\n",
              "<table border=\"1\" class=\"dataframe\">\n",
              "  <thead>\n",
              "    <tr style=\"text-align: right;\">\n",
              "      <th></th>\n",
              "      <th>Actual Classes</th>\n",
              "      <th>Predicted Classes</th>\n",
              "    </tr>\n",
              "  </thead>\n",
              "  <tbody>\n",
              "    <tr>\n",
              "      <th>0</th>\n",
              "      <td>9</td>\n",
              "      <td>9</td>\n",
              "    </tr>\n",
              "    <tr>\n",
              "      <th>1</th>\n",
              "      <td>2</td>\n",
              "      <td>2</td>\n",
              "    </tr>\n",
              "    <tr>\n",
              "      <th>2</th>\n",
              "      <td>1</td>\n",
              "      <td>1</td>\n",
              "    </tr>\n",
              "    <tr>\n",
              "      <th>3</th>\n",
              "      <td>1</td>\n",
              "      <td>1</td>\n",
              "    </tr>\n",
              "    <tr>\n",
              "      <th>4</th>\n",
              "      <td>6</td>\n",
              "      <td>6</td>\n",
              "    </tr>\n",
              "  </tbody>\n",
              "</table>\n",
              "</div>"
            ],
            "text/plain": [
              "   Actual Classes  Predicted Classes\n",
              "0               9                  9\n",
              "1               2                  2\n",
              "2               1                  1\n",
              "3               1                  1\n",
              "4               6                  6"
            ]
          },
          "metadata": {
            "tags": []
          },
          "execution_count": 58
        }
      ]
    }
  ]
}
