{
 "cells": [
  {
   "cell_type": "markdown",
   "metadata": {},
   "source": [
    "# Goal - To build a machine learning model that is able to answer which customers are profitable, and decide who to approve.\n",
    "How business works :\n",
    "- Selected customers are given cards\n",
    "- Customers make transactions depending upon their limits, credi_line\n",
    "- Company earns commission on each transaction and as interest on leftover amount \n",
    "- If customer defaults, whole amount is lost \n",
    "\n",
    "         -Tasks performed in this file\n",
    "             - Data Cleaning\n",
    "             - Exploratory Data Analysis\n",
    "             - Misisng values Treatment\n",
    "             - Categorical Features Encoding\n",
    "             - Feature Creation\n",
    "         -Analyst - Rageeni Sah\n",
    "         -Date - 29th Sept, 2018"
   ]
  },
  {
   "cell_type": "markdown",
   "metadata": {},
   "source": [
    "## Import libraries"
   ]
  },
  {
   "cell_type": "code",
   "execution_count": 1,
   "metadata": {
    "collapsed": true
   },
   "outputs": [],
   "source": [
    "import pandas as pd\n",
    "import numpy as np\n",
    "import seaborn as sns\n",
    "import matplotlib.pyplot as plt\n",
    "from sklearn.preprocessing import Imputer\n",
    "from datetime import datetime\n",
    "from scipy.stats import skew\n",
    "\n",
    "import warnings\n",
    "warnings.filterwarnings(action = 'ignore')\n",
    "%matplotlib inline\n",
    "pd.set_option('display.max_colwidth', 100)"
   ]
  },
  {
   "cell_type": "markdown",
   "metadata": {},
   "source": [
    "## Load train and test dataset"
   ]
  },
  {
   "cell_type": "code",
   "execution_count": 2,
   "metadata": {},
   "outputs": [
    {
     "name": "stdout",
     "output_type": "stream",
     "text": [
      "Train Datasize: (64592, 29) and Test Datasize (35000, 28)\n"
     ]
    }
   ],
   "source": [
    "def load_dataset():\n",
    "    train_df = pd.read_csv('C:/Users/ragesah.ORADEV/Desktop/Puzzle/puzzle_train_dataset.csv')\n",
    "    test_df = pd.read_csv('C:/Users/ragesah.ORADEV/Desktop/Puzzle/puzzle_test_dataset.csv')\n",
    "    return train_df, test_df\n",
    "    \n",
    "train_df, test_df = load_dataset()   \n",
    "print('Train Datasize: {} and Test Datasize {}'.format(train_df.shape, test_df.shape))"
   ]
  },
  {
   "cell_type": "markdown",
   "metadata": {},
   "source": [
    "## Target variable 'default' analysis"
   ]
  },
  {
   "cell_type": "code",
   "execution_count": 3,
   "metadata": {},
   "outputs": [
    {
     "name": "stdout",
     "output_type": "stream",
     "text": [
      "Default has 3 unique values: [False True nan]\n",
      "Count True: 9510\n",
      "Count False: 50456\n",
      "Count NAN: 4626\n"
     ]
    },
    {
     "data": {
      "text/plain": [
       "<matplotlib.axes._subplots.AxesSubplot at 0x2025f4ba828>"
      ]
     },
     "execution_count": 3,
     "metadata": {},
     "output_type": "execute_result"
    },
    {
     "data": {
      "image/png": "[encoded data removed]",
      "text/plain": [
       "<matplotlib.figure.Figure at 0x2025cb276d8>"
      ]
     },
     "metadata": {},
     "output_type": "display_data"
    }
   ],
   "source": [
    "print('Default has {} unique values: {}'.format(len(train_df.default.unique()), train_df.default.unique()))\n",
    "print('Count True:', len(train_df[train_df['default'] == True]))\n",
    "print('Count False:', len(train_df[train_df['default'] == False]))\n",
    "rem = train_df.shape[0] - (len(train_df[train_df['default'] == True]) + len(train_df[train_df['default'] == False]))\n",
    "print('Count NAN:', rem )\n",
    "\n",
    "sns.countplot(x = 'default', data = train_df)  # Imbalanced dataset"
   ]
  },
  {
   "cell_type": "markdown",
   "metadata": {},
   "source": [
    "## Univariate Analysis"
   ]
  },
  {
   "cell_type": "code",
   "execution_count": 4,
   "metadata": {},
   "outputs": [
    {
     "name": "stdout",
     "output_type": "stream",
     "text": [
      "Index(['score_3', 'score_4', 'score_5', 'score_6', 'risk_rate',\n",
      "       'amount_borrowed', 'borrowed_in_months', 'credit_limit', 'income',\n",
      "       'ok_since', 'n_bankruptcies', 'n_defaulted_loans', 'n_accounts',\n",
      "       'n_issues'],\n",
      "      dtype='object')\n",
      "Index(['ids', 'default', 'score_1', 'score_2', 'reason', 'sign', 'gender',\n",
      "       'facebook_profile', 'last_payment', 'end_last_loan', 'state', 'zip',\n",
      "       'channel', 'job_name', 'real_state'],\n",
      "      dtype='object')\n"
     ]
    }
   ],
   "source": [
    "numerical_features = train_df.select_dtypes(include = [np.number]).columns\n",
    "categorical_features = train_df.select_dtypes(include = [np.object]).columns\n",
    "\n",
    "print(numerical_features)\n",
    "print(categorical_features)"
   ]
  },
  {
   "cell_type": "code",
   "execution_count": 5,
   "metadata": {
    "scrolled": true
   },
   "outputs": [
    {
     "name": "stdout",
     "output_type": "stream",
     "text": [
      "<class 'pandas.core.frame.DataFrame'>\n",
      "RangeIndex: 64592 entries, 0 to 64591\n",
      "Data columns (total 29 columns):\n",
      "ids                   64592 non-null object\n",
      "default               59966 non-null object\n",
      "score_1               63807 non-null object\n",
      "score_2               63807 non-null object\n",
      "score_3               63807 non-null float64\n",
      "score_4               64592 non-null float64\n",
      "score_5               64592 non-null float64\n",
      "score_6               64592 non-null float64\n",
      "risk_rate             63807 non-null float64\n",
      "amount_borrowed       63807 non-null float64\n",
      "borrowed_in_months    63807 non-null float64\n",
      "credit_limit          44839 non-null float64\n",
      "reason                63801 non-null object\n",
      "income                63807 non-null float64\n",
      "sign                  43825 non-null object\n",
      "gender                57406 non-null object\n",
      "facebook_profile      58185 non-null object\n",
      "last_payment          63730 non-null object\n",
      "end_last_loan         63804 non-null object\n",
      "state                 63807 non-null object\n",
      "zip                   63807 non-null object\n",
      "channel               63807 non-null object\n",
      "job_name              59797 non-null object\n",
      "real_state            63807 non-null object\n",
      "ok_since              26554 non-null float64\n",
      "n_bankruptcies        63605 non-null float64\n",
      "n_defaulted_loans     63789 non-null float64\n",
      "n_accounts            63807 non-null float64\n",
      "n_issues              48141 non-null float64\n",
      "dtypes: float64(14), object(15)\n",
      "memory usage: 14.3+ MB\n"
     ]
    }
   ],
   "source": [
    "train_df.info()"
   ]
  },
  {
   "cell_type": "code",
   "execution_count": 6,
   "metadata": {
    "scrolled": false
   },
   "outputs": [
    {
     "data": {
      "text/html": [
       "<div>\n",
       "<style>\n",
       "    .dataframe thead tr:only-child th {\n",
       "        text-align: right;\n",
       "    }\n",
       "\n",
       "    .dataframe thead th {\n",
       "        text-align: left;\n",
       "    }\n",
       "\n",
       "    .dataframe tbody tr th {\n",
       "        vertical-align: top;\n",
       "    }\n",
       "</style>\n",
       "<table border=\"1\" class=\"dataframe\">\n",
       "  <thead>\n",
       "    <tr style=\"text-align: right;\">\n",
       "      <th></th>\n",
       "      <th>Missing values</th>\n",
       "      <th>% Missing</th>\n",
       "    </tr>\n",
       "  </thead>\n",
       "  <tbody>\n",
       "    <tr>\n",
       "      <th>ok_since</th>\n",
       "      <td>38038</td>\n",
       "      <td>58.889646</td>\n",
       "    </tr>\n",
       "    <tr>\n",
       "      <th>sign</th>\n",
       "      <td>20767</td>\n",
       "      <td>32.151040</td>\n",
       "    </tr>\n",
       "    <tr>\n",
       "      <th>credit_limit</th>\n",
       "      <td>19753</td>\n",
       "      <td>30.581187</td>\n",
       "    </tr>\n",
       "    <tr>\n",
       "      <th>n_issues</th>\n",
       "      <td>16451</td>\n",
       "      <td>25.469098</td>\n",
       "    </tr>\n",
       "    <tr>\n",
       "      <th>gender</th>\n",
       "      <td>7186</td>\n",
       "      <td>11.125217</td>\n",
       "    </tr>\n",
       "    <tr>\n",
       "      <th>facebook_profile</th>\n",
       "      <td>6407</td>\n",
       "      <td>9.919185</td>\n",
       "    </tr>\n",
       "    <tr>\n",
       "      <th>job_name</th>\n",
       "      <td>4795</td>\n",
       "      <td>7.423520</td>\n",
       "    </tr>\n",
       "    <tr>\n",
       "      <th>default</th>\n",
       "      <td>4626</td>\n",
       "      <td>7.161878</td>\n",
       "    </tr>\n",
       "    <tr>\n",
       "      <th>n_bankruptcies</th>\n",
       "      <td>987</td>\n",
       "      <td>1.528053</td>\n",
       "    </tr>\n",
       "    <tr>\n",
       "      <th>last_payment</th>\n",
       "      <td>862</td>\n",
       "      <td>1.334531</td>\n",
       "    </tr>\n",
       "    <tr>\n",
       "      <th>n_defaulted_loans</th>\n",
       "      <td>803</td>\n",
       "      <td>1.243188</td>\n",
       "    </tr>\n",
       "    <tr>\n",
       "      <th>reason</th>\n",
       "      <td>791</td>\n",
       "      <td>1.224610</td>\n",
       "    </tr>\n",
       "    <tr>\n",
       "      <th>end_last_loan</th>\n",
       "      <td>788</td>\n",
       "      <td>1.219965</td>\n",
       "    </tr>\n",
       "    <tr>\n",
       "      <th>amount_borrowed</th>\n",
       "      <td>785</td>\n",
       "      <td>1.215321</td>\n",
       "    </tr>\n",
       "    <tr>\n",
       "      <th>channel</th>\n",
       "      <td>785</td>\n",
       "      <td>1.215321</td>\n",
       "    </tr>\n",
       "    <tr>\n",
       "      <th>score_1</th>\n",
       "      <td>785</td>\n",
       "      <td>1.215321</td>\n",
       "    </tr>\n",
       "    <tr>\n",
       "      <th>score_2</th>\n",
       "      <td>785</td>\n",
       "      <td>1.215321</td>\n",
       "    </tr>\n",
       "    <tr>\n",
       "      <th>score_3</th>\n",
       "      <td>785</td>\n",
       "      <td>1.215321</td>\n",
       "    </tr>\n",
       "    <tr>\n",
       "      <th>state</th>\n",
       "      <td>785</td>\n",
       "      <td>1.215321</td>\n",
       "    </tr>\n",
       "    <tr>\n",
       "      <th>risk_rate</th>\n",
       "      <td>785</td>\n",
       "      <td>1.215321</td>\n",
       "    </tr>\n",
       "    <tr>\n",
       "      <th>borrowed_in_months</th>\n",
       "      <td>785</td>\n",
       "      <td>1.215321</td>\n",
       "    </tr>\n",
       "    <tr>\n",
       "      <th>zip</th>\n",
       "      <td>785</td>\n",
       "      <td>1.215321</td>\n",
       "    </tr>\n",
       "    <tr>\n",
       "      <th>real_state</th>\n",
       "      <td>785</td>\n",
       "      <td>1.215321</td>\n",
       "    </tr>\n",
       "    <tr>\n",
       "      <th>income</th>\n",
       "      <td>785</td>\n",
       "      <td>1.215321</td>\n",
       "    </tr>\n",
       "    <tr>\n",
       "      <th>n_accounts</th>\n",
       "      <td>785</td>\n",
       "      <td>1.215321</td>\n",
       "    </tr>\n",
       "  </tbody>\n",
       "</table>\n",
       "</div>"
      ],
      "text/plain": [
       "                    Missing values  % Missing\n",
       "ok_since                     38038  58.889646\n",
       "sign                         20767  32.151040\n",
       "credit_limit                 19753  30.581187\n",
       "n_issues                     16451  25.469098\n",
       "gender                        7186  11.125217\n",
       "facebook_profile              6407   9.919185\n",
       "job_name                      4795   7.423520\n",
       "default                       4626   7.161878\n",
       "n_bankruptcies                 987   1.528053\n",
       "last_payment                   862   1.334531\n",
       "n_defaulted_loans              803   1.243188\n",
       "reason                         791   1.224610\n",
       "end_last_loan                  788   1.219965\n",
       "amount_borrowed                785   1.215321\n",
       "channel                        785   1.215321\n",
       "score_1                        785   1.215321\n",
       "score_2                        785   1.215321\n",
       "score_3                        785   1.215321\n",
       "state                          785   1.215321\n",
       "risk_rate                      785   1.215321\n",
       "borrowed_in_months             785   1.215321\n",
       "zip                            785   1.215321\n",
       "real_state                     785   1.215321\n",
       "income                         785   1.215321\n",
       "n_accounts                     785   1.215321"
      ]
     },
     "execution_count": 6,
     "metadata": {},
     "output_type": "execute_result"
    }
   ],
   "source": [
    "missing_values = train_df.isnull().sum().sort_values(ascending = False)\n",
    "percentage_missing_values = (missing_values/len(train_df))*100\n",
    "dummy = pd.concat([missing_values, percentage_missing_values], axis = 1, keys= ['Missing values', '% Missing']) \n",
    "dummy[dummy['% Missing'] > 0]"
   ]
  },
  {
   "cell_type": "markdown",
   "metadata": {},
   "source": [
    "### Trying to understand data for missing values in target 'nan'"
   ]
  },
  {
   "cell_type": "code",
   "execution_count": 7,
   "metadata": {
    "scrolled": true
   },
   "outputs": [
    {
     "data": {
      "text/html": [
       "<div>\n",
       "<style>\n",
       "    .dataframe thead tr:only-child th {\n",
       "        text-align: right;\n",
       "    }\n",
       "\n",
       "    .dataframe thead th {\n",
       "        text-align: left;\n",
       "    }\n",
       "\n",
       "    .dataframe tbody tr th {\n",
       "        vertical-align: top;\n",
       "    }\n",
       "</style>\n",
       "<table border=\"1\" class=\"dataframe\">\n",
       "  <thead>\n",
       "    <tr style=\"text-align: right;\">\n",
       "      <th></th>\n",
       "      <th>Missing values</th>\n",
       "      <th>% Missing</th>\n",
       "    </tr>\n",
       "  </thead>\n",
       "  <tbody>\n",
       "    <tr>\n",
       "      <th>default</th>\n",
       "      <td>4626</td>\n",
       "      <td>100.000000</td>\n",
       "    </tr>\n",
       "    <tr>\n",
       "      <th>gender</th>\n",
       "      <td>4190</td>\n",
       "      <td>90.575011</td>\n",
       "    </tr>\n",
       "    <tr>\n",
       "      <th>ok_since</th>\n",
       "      <td>2949</td>\n",
       "      <td>63.748379</td>\n",
       "    </tr>\n",
       "    <tr>\n",
       "      <th>sign</th>\n",
       "      <td>1829</td>\n",
       "      <td>39.537397</td>\n",
       "    </tr>\n",
       "    <tr>\n",
       "      <th>job_name</th>\n",
       "      <td>1004</td>\n",
       "      <td>21.703415</td>\n",
       "    </tr>\n",
       "    <tr>\n",
       "      <th>credit_limit</th>\n",
       "      <td>974</td>\n",
       "      <td>21.054907</td>\n",
       "    </tr>\n",
       "    <tr>\n",
       "      <th>n_issues</th>\n",
       "      <td>871</td>\n",
       "      <td>18.828361</td>\n",
       "    </tr>\n",
       "    <tr>\n",
       "      <th>reason</th>\n",
       "      <td>786</td>\n",
       "      <td>16.990921</td>\n",
       "    </tr>\n",
       "    <tr>\n",
       "      <th>channel</th>\n",
       "      <td>785</td>\n",
       "      <td>16.969304</td>\n",
       "    </tr>\n",
       "    <tr>\n",
       "      <th>n_bankruptcies</th>\n",
       "      <td>785</td>\n",
       "      <td>16.969304</td>\n",
       "    </tr>\n",
       "    <tr>\n",
       "      <th>n_defaulted_loans</th>\n",
       "      <td>785</td>\n",
       "      <td>16.969304</td>\n",
       "    </tr>\n",
       "    <tr>\n",
       "      <th>score_1</th>\n",
       "      <td>785</td>\n",
       "      <td>16.969304</td>\n",
       "    </tr>\n",
       "    <tr>\n",
       "      <th>score_2</th>\n",
       "      <td>785</td>\n",
       "      <td>16.969304</td>\n",
       "    </tr>\n",
       "    <tr>\n",
       "      <th>score_3</th>\n",
       "      <td>785</td>\n",
       "      <td>16.969304</td>\n",
       "    </tr>\n",
       "    <tr>\n",
       "      <th>risk_rate</th>\n",
       "      <td>785</td>\n",
       "      <td>16.969304</td>\n",
       "    </tr>\n",
       "    <tr>\n",
       "      <th>amount_borrowed</th>\n",
       "      <td>785</td>\n",
       "      <td>16.969304</td>\n",
       "    </tr>\n",
       "    <tr>\n",
       "      <th>zip</th>\n",
       "      <td>785</td>\n",
       "      <td>16.969304</td>\n",
       "    </tr>\n",
       "    <tr>\n",
       "      <th>borrowed_in_months</th>\n",
       "      <td>785</td>\n",
       "      <td>16.969304</td>\n",
       "    </tr>\n",
       "    <tr>\n",
       "      <th>income</th>\n",
       "      <td>785</td>\n",
       "      <td>16.969304</td>\n",
       "    </tr>\n",
       "    <tr>\n",
       "      <th>n_accounts</th>\n",
       "      <td>785</td>\n",
       "      <td>16.969304</td>\n",
       "    </tr>\n",
       "    <tr>\n",
       "      <th>real_state</th>\n",
       "      <td>785</td>\n",
       "      <td>16.969304</td>\n",
       "    </tr>\n",
       "    <tr>\n",
       "      <th>last_payment</th>\n",
       "      <td>785</td>\n",
       "      <td>16.969304</td>\n",
       "    </tr>\n",
       "    <tr>\n",
       "      <th>end_last_loan</th>\n",
       "      <td>785</td>\n",
       "      <td>16.969304</td>\n",
       "    </tr>\n",
       "    <tr>\n",
       "      <th>state</th>\n",
       "      <td>785</td>\n",
       "      <td>16.969304</td>\n",
       "    </tr>\n",
       "    <tr>\n",
       "      <th>facebook_profile</th>\n",
       "      <td>436</td>\n",
       "      <td>9.424989</td>\n",
       "    </tr>\n",
       "  </tbody>\n",
       "</table>\n",
       "</div>"
      ],
      "text/plain": [
       "                    Missing values   % Missing\n",
       "default                       4626  100.000000\n",
       "gender                        4190   90.575011\n",
       "ok_since                      2949   63.748379\n",
       "sign                          1829   39.537397\n",
       "job_name                      1004   21.703415\n",
       "credit_limit                   974   21.054907\n",
       "n_issues                       871   18.828361\n",
       "reason                         786   16.990921\n",
       "channel                        785   16.969304\n",
       "n_bankruptcies                 785   16.969304\n",
       "n_defaulted_loans              785   16.969304\n",
       "score_1                        785   16.969304\n",
       "score_2                        785   16.969304\n",
       "score_3                        785   16.969304\n",
       "risk_rate                      785   16.969304\n",
       "amount_borrowed                785   16.969304\n",
       "zip                            785   16.969304\n",
       "borrowed_in_months             785   16.969304\n",
       "income                         785   16.969304\n",
       "n_accounts                     785   16.969304\n",
       "real_state                     785   16.969304\n",
       "last_payment                   785   16.969304\n",
       "end_last_loan                  785   16.969304\n",
       "state                          785   16.969304\n",
       "facebook_profile               436    9.424989"
      ]
     },
     "execution_count": 7,
     "metadata": {},
     "output_type": "execute_result"
    }
   ],
   "source": [
    "missing_target = train_df[(train_df['default'] != True) & (train_df['default'] != False) ]\n",
    "missing_values = missing_target.isnull().sum().sort_values(ascending = False)\n",
    "percentage_missing_values = (missing_values/len(missing_target))*100\n",
    "missing_dummy = pd.concat([missing_values, percentage_missing_values], axis = 1, keys= ['Missing values', '% Missing']) \n",
    "missing_dummy[missing_dummy['% Missing'] > 0]"
   ]
  },
  {
   "cell_type": "code",
   "execution_count": 8,
   "metadata": {
    "collapsed": true
   },
   "outputs": [],
   "source": [
    "train_df = train_df[(train_df['default'] == True) | (train_df['default'] == False) ]\n",
    "# target varibale binarization\n",
    "train_df.default = train_df.default.map({True:1, False:0})"
   ]
  },
  {
   "cell_type": "code",
   "execution_count": 9,
   "metadata": {},
   "outputs": [
    {
     "data": {
      "text/html": [
       "<div>\n",
       "<style>\n",
       "    .dataframe thead tr:only-child th {\n",
       "        text-align: right;\n",
       "    }\n",
       "\n",
       "    .dataframe thead th {\n",
       "        text-align: left;\n",
       "    }\n",
       "\n",
       "    .dataframe tbody tr th {\n",
       "        vertical-align: top;\n",
       "    }\n",
       "</style>\n",
       "<table border=\"1\" class=\"dataframe\">\n",
       "  <thead>\n",
       "    <tr style=\"text-align: right;\">\n",
       "      <th></th>\n",
       "      <th>default</th>\n",
       "      <th>score_3</th>\n",
       "      <th>score_4</th>\n",
       "      <th>score_5</th>\n",
       "      <th>score_6</th>\n",
       "      <th>risk_rate</th>\n",
       "      <th>amount_borrowed</th>\n",
       "      <th>borrowed_in_months</th>\n",
       "      <th>credit_limit</th>\n",
       "      <th>income</th>\n",
       "      <th>ok_since</th>\n",
       "      <th>n_bankruptcies</th>\n",
       "      <th>n_defaulted_loans</th>\n",
       "      <th>n_accounts</th>\n",
       "      <th>n_issues</th>\n",
       "    </tr>\n",
       "  </thead>\n",
       "  <tbody>\n",
       "    <tr>\n",
       "      <th>count</th>\n",
       "      <td>59966.000000</td>\n",
       "      <td>59966.000000</td>\n",
       "      <td>59966.000000</td>\n",
       "      <td>59966.000000</td>\n",
       "      <td>59966.000000</td>\n",
       "      <td>59966.000000</td>\n",
       "      <td>59966.000000</td>\n",
       "      <td>59966.000000</td>\n",
       "      <td>41187.000000</td>\n",
       "      <td>5.996600e+04</td>\n",
       "      <td>24877.000000</td>\n",
       "      <td>59764.000000</td>\n",
       "      <td>59948.000000</td>\n",
       "      <td>59966.000000</td>\n",
       "      <td>44386.000000</td>\n",
       "    </tr>\n",
       "    <tr>\n",
       "      <th>mean</th>\n",
       "      <td>0.158590</td>\n",
       "      <td>346.435147</td>\n",
       "      <td>99.999870</td>\n",
       "      <td>0.498721</td>\n",
       "      <td>99.943175</td>\n",
       "      <td>0.294114</td>\n",
       "      <td>13411.805468</td>\n",
       "      <td>40.674649</td>\n",
       "      <td>34093.005997</td>\n",
       "      <td>7.132578e+04</td>\n",
       "      <td>35.276762</td>\n",
       "      <td>0.077706</td>\n",
       "      <td>0.004671</td>\n",
       "      <td>10.624571</td>\n",
       "      <td>11.001036</td>\n",
       "    </tr>\n",
       "    <tr>\n",
       "      <th>std</th>\n",
       "      <td>0.365296</td>\n",
       "      <td>109.842822</td>\n",
       "      <td>3.174459</td>\n",
       "      <td>0.288653</td>\n",
       "      <td>10.035178</td>\n",
       "      <td>0.101183</td>\n",
       "      <td>7957.402823</td>\n",
       "      <td>9.504775</td>\n",
       "      <td>36783.480509</td>\n",
       "      <td>5.169143e+04</td>\n",
       "      <td>21.630884</td>\n",
       "      <td>0.278433</td>\n",
       "      <td>0.079059</td>\n",
       "      <td>4.575357</td>\n",
       "      <td>4.569516</td>\n",
       "    </tr>\n",
       "    <tr>\n",
       "      <th>min</th>\n",
       "      <td>0.000000</td>\n",
       "      <td>0.000000</td>\n",
       "      <td>86.191572</td>\n",
       "      <td>0.000035</td>\n",
       "      <td>60.663039</td>\n",
       "      <td>0.000000</td>\n",
       "      <td>527.070000</td>\n",
       "      <td>36.000000</td>\n",
       "      <td>0.000000</td>\n",
       "      <td>4.821180e+03</td>\n",
       "      <td>0.000000</td>\n",
       "      <td>0.000000</td>\n",
       "      <td>0.000000</td>\n",
       "      <td>0.000000</td>\n",
       "      <td>0.000000</td>\n",
       "    </tr>\n",
       "    <tr>\n",
       "      <th>25%</th>\n",
       "      <td>0.000000</td>\n",
       "      <td>270.000000</td>\n",
       "      <td>97.856471</td>\n",
       "      <td>0.250013</td>\n",
       "      <td>93.213368</td>\n",
       "      <td>0.220000</td>\n",
       "      <td>7225.987500</td>\n",
       "      <td>36.000000</td>\n",
       "      <td>9907.000000</td>\n",
       "      <td>4.402786e+04</td>\n",
       "      <td>17.000000</td>\n",
       "      <td>0.000000</td>\n",
       "      <td>0.000000</td>\n",
       "      <td>7.000000</td>\n",
       "      <td>8.000000</td>\n",
       "    </tr>\n",
       "    <tr>\n",
       "      <th>50%</th>\n",
       "      <td>0.000000</td>\n",
       "      <td>340.000000</td>\n",
       "      <td>100.008497</td>\n",
       "      <td>0.497755</td>\n",
       "      <td>99.979923</td>\n",
       "      <td>0.290000</td>\n",
       "      <td>12012.400000</td>\n",
       "      <td>36.000000</td>\n",
       "      <td>25338.000000</td>\n",
       "      <td>6.004726e+04</td>\n",
       "      <td>32.000000</td>\n",
       "      <td>0.000000</td>\n",
       "      <td>0.000000</td>\n",
       "      <td>10.000000</td>\n",
       "      <td>10.000000</td>\n",
       "    </tr>\n",
       "    <tr>\n",
       "      <th>75%</th>\n",
       "      <td>0.000000</td>\n",
       "      <td>420.000000</td>\n",
       "      <td>102.134785</td>\n",
       "      <td>0.748461</td>\n",
       "      <td>106.691523</td>\n",
       "      <td>0.360000</td>\n",
       "      <td>18036.645000</td>\n",
       "      <td>36.000000</td>\n",
       "      <td>46759.500000</td>\n",
       "      <td>8.503961e+04</td>\n",
       "      <td>50.000000</td>\n",
       "      <td>0.000000</td>\n",
       "      <td>0.000000</td>\n",
       "      <td>13.000000</td>\n",
       "      <td>14.000000</td>\n",
       "    </tr>\n",
       "    <tr>\n",
       "      <th>max</th>\n",
       "      <td>1.000000</td>\n",
       "      <td>990.000000</td>\n",
       "      <td>113.978234</td>\n",
       "      <td>0.999973</td>\n",
       "      <td>142.430069</td>\n",
       "      <td>0.900000</td>\n",
       "      <td>35059.600000</td>\n",
       "      <td>60.000000</td>\n",
       "      <td>613117.000000</td>\n",
       "      <td>5.000028e+06</td>\n",
       "      <td>141.000000</td>\n",
       "      <td>6.000000</td>\n",
       "      <td>5.000000</td>\n",
       "      <td>49.000000</td>\n",
       "      <td>49.000000</td>\n",
       "    </tr>\n",
       "  </tbody>\n",
       "</table>\n",
       "</div>"
      ],
      "text/plain": [
       "            default       score_3       score_4       score_5       score_6  \\\n",
       "count  59966.000000  59966.000000  59966.000000  59966.000000  59966.000000   \n",
       "mean       0.158590    346.435147     99.999870      0.498721     99.943175   \n",
       "std        0.365296    109.842822      3.174459      0.288653     10.035178   \n",
       "min        0.000000      0.000000     86.191572      0.000035     60.663039   \n",
       "25%        0.000000    270.000000     97.856471      0.250013     93.213368   \n",
       "50%        0.000000    340.000000    100.008497      0.497755     99.979923   \n",
       "75%        0.000000    420.000000    102.134785      0.748461    106.691523   \n",
       "max        1.000000    990.000000    113.978234      0.999973    142.430069   \n",
       "\n",
       "          risk_rate  amount_borrowed  borrowed_in_months   credit_limit  \\\n",
       "count  59966.000000     59966.000000        59966.000000   41187.000000   \n",
       "mean       0.294114     13411.805468           40.674649   34093.005997   \n",
       "std        0.101183      7957.402823            9.504775   36783.480509   \n",
       "min        0.000000       527.070000           36.000000       0.000000   \n",
       "25%        0.220000      7225.987500           36.000000    9907.000000   \n",
       "50%        0.290000     12012.400000           36.000000   25338.000000   \n",
       "75%        0.360000     18036.645000           36.000000   46759.500000   \n",
       "max        0.900000     35059.600000           60.000000  613117.000000   \n",
       "\n",
       "             income      ok_since  n_bankruptcies  n_defaulted_loans  \\\n",
       "count  5.996600e+04  24877.000000    59764.000000       59948.000000   \n",
       "mean   7.132578e+04     35.276762        0.077706           0.004671   \n",
       "std    5.169143e+04     21.630884        0.278433           0.079059   \n",
       "min    4.821180e+03      0.000000        0.000000           0.000000   \n",
       "25%    4.402786e+04     17.000000        0.000000           0.000000   \n",
       "50%    6.004726e+04     32.000000        0.000000           0.000000   \n",
       "75%    8.503961e+04     50.000000        0.000000           0.000000   \n",
       "max    5.000028e+06    141.000000        6.000000           5.000000   \n",
       "\n",
       "         n_accounts      n_issues  \n",
       "count  59966.000000  44386.000000  \n",
       "mean      10.624571     11.001036  \n",
       "std        4.575357      4.569516  \n",
       "min        0.000000      0.000000  \n",
       "25%        7.000000      8.000000  \n",
       "50%       10.000000     10.000000  \n",
       "75%       13.000000     14.000000  \n",
       "max       49.000000     49.000000  "
      ]
     },
     "execution_count": 9,
     "metadata": {},
     "output_type": "execute_result"
    }
   ],
   "source": [
    "train_df.describe()"
   ]
  },
  {
   "cell_type": "code",
   "execution_count": 10,
   "metadata": {},
   "outputs": [
    {
     "data": {
      "text/plain": [
       "array([[<matplotlib.axes._subplots.AxesSubplot object at 0x000002025CFA7EB8>,\n",
       "        <matplotlib.axes._subplots.AxesSubplot object at 0x000002025CCF2D68>,\n",
       "        <matplotlib.axes._subplots.AxesSubplot object at 0x000002025CD2A9E8>,\n",
       "        <matplotlib.axes._subplots.AxesSubplot object at 0x000002025CD66588>],\n",
       "       [<matplotlib.axes._subplots.AxesSubplot object at 0x000002025CD35BE0>,\n",
       "        <matplotlib.axes._subplots.AxesSubplot object at 0x000002025CD359E8>,\n",
       "        <matplotlib.axes._subplots.AxesSubplot object at 0x000002025CE0C320>,\n",
       "        <matplotlib.axes._subplots.AxesSubplot object at 0x000002025CE3CE80>],\n",
       "       [<matplotlib.axes._subplots.AxesSubplot object at 0x000002025CE78A90>,\n",
       "        <matplotlib.axes._subplots.AxesSubplot object at 0x000002025CEA9E10>,\n",
       "        <matplotlib.axes._subplots.AxesSubplot object at 0x000002025EC81A90>,\n",
       "        <matplotlib.axes._subplots.AxesSubplot object at 0x000002025ECBE6A0>],\n",
       "       [<matplotlib.axes._subplots.AxesSubplot object at 0x000002025ECFC240>,\n",
       "        <matplotlib.axes._subplots.AxesSubplot object at 0x000002025ECCB908>,\n",
       "        <matplotlib.axes._subplots.AxesSubplot object at 0x000002025ED64470>,\n",
       "        <matplotlib.axes._subplots.AxesSubplot object at 0x000002025ED96FD0>]],\n",
       "      dtype=object)"
      ]
     },
     "execution_count": 10,
     "metadata": {},
     "output_type": "execute_result"
    },
    {
     "data": {
      "image/png": "[encoded data removed]",
      "text/plain": [
       "<matplotlib.figure.Figure at 0x2025cfa7898>"
      ]
     },
     "metadata": {},
     "output_type": "display_data"
    }
   ],
   "source": [
    "train_df[numerical_features].hist(figsize=(30,30))\n",
    "# Income, credit_limit, n_bankruptcies, n_defaulted_loans are highly sckewed while, score_5 has close to zero variance"
   ]
  },
  {
   "cell_type": "markdown",
   "metadata": {},
   "source": [
    "## Numerical and Date features handling"
   ]
  },
  {
   "cell_type": "code",
   "execution_count": 11,
   "metadata": {},
   "outputs": [
    {
     "data": {
      "text/plain": [
       "Index(['score_3', 'score_4', 'score_5', 'score_6', 'risk_rate',\n",
       "       'amount_borrowed', 'borrowed_in_months', 'credit_limit', 'income',\n",
       "       'ok_since', 'n_bankruptcies', 'n_defaulted_loans', 'n_accounts',\n",
       "       'n_issues'],\n",
       "      dtype='object')"
      ]
     },
     "execution_count": 11,
     "metadata": {},
     "output_type": "execute_result"
    }
   ],
   "source": [
    "numerical_features"
   ]
  },
  {
   "cell_type": "code",
   "execution_count": 12,
   "metadata": {},
   "outputs": [
    {
     "data": {
      "text/html": [
       "<div>\n",
       "<style>\n",
       "    .dataframe thead tr:only-child th {\n",
       "        text-align: right;\n",
       "    }\n",
       "\n",
       "    .dataframe thead th {\n",
       "        text-align: left;\n",
       "    }\n",
       "\n",
       "    .dataframe tbody tr th {\n",
       "        vertical-align: top;\n",
       "    }\n",
       "</style>\n",
       "<table border=\"1\" class=\"dataframe\">\n",
       "  <thead>\n",
       "    <tr style=\"text-align: right;\">\n",
       "      <th></th>\n",
       "      <th>Features</th>\n",
       "      <th>Skewness degree</th>\n",
       "    </tr>\n",
       "  </thead>\n",
       "  <tbody>\n",
       "    <tr>\n",
       "      <th>0</th>\n",
       "      <td>score_3</td>\n",
       "      <td>0.333319</td>\n",
       "    </tr>\n",
       "    <tr>\n",
       "      <th>1</th>\n",
       "      <td>score_4</td>\n",
       "      <td>-0.015950</td>\n",
       "    </tr>\n",
       "    <tr>\n",
       "      <th>2</th>\n",
       "      <td>score_5</td>\n",
       "      <td>0.007547</td>\n",
       "    </tr>\n",
       "    <tr>\n",
       "      <th>3</th>\n",
       "      <td>score_6</td>\n",
       "      <td>-0.012761</td>\n",
       "    </tr>\n",
       "    <tr>\n",
       "      <th>4</th>\n",
       "      <td>risk_rate</td>\n",
       "      <td>0.485207</td>\n",
       "    </tr>\n",
       "    <tr>\n",
       "      <th>5</th>\n",
       "      <td>amount_borrowed</td>\n",
       "      <td>0.820511</td>\n",
       "    </tr>\n",
       "    <tr>\n",
       "      <th>6</th>\n",
       "      <td>borrowed_in_months</td>\n",
       "      <td>1.541417</td>\n",
       "    </tr>\n",
       "    <tr>\n",
       "      <th>7</th>\n",
       "      <td>credit_limit</td>\n",
       "      <td>2.782305</td>\n",
       "    </tr>\n",
       "    <tr>\n",
       "      <th>8</th>\n",
       "      <td>income</td>\n",
       "      <td>19.905292</td>\n",
       "    </tr>\n",
       "    <tr>\n",
       "      <th>9</th>\n",
       "      <td>ok_since</td>\n",
       "      <td>0.433557</td>\n",
       "    </tr>\n",
       "    <tr>\n",
       "      <th>10</th>\n",
       "      <td>n_bankruptcies</td>\n",
       "      <td>3.959583</td>\n",
       "    </tr>\n",
       "    <tr>\n",
       "      <th>11</th>\n",
       "      <td>n_defaulted_loans</td>\n",
       "      <td>21.832705</td>\n",
       "    </tr>\n",
       "    <tr>\n",
       "      <th>12</th>\n",
       "      <td>n_accounts</td>\n",
       "      <td>0.950040</td>\n",
       "    </tr>\n",
       "    <tr>\n",
       "      <th>13</th>\n",
       "      <td>n_issues</td>\n",
       "      <td>0.949179</td>\n",
       "    </tr>\n",
       "  </tbody>\n",
       "</table>\n",
       "</div>"
      ],
      "text/plain": [
       "              Features  Skewness degree\n",
       "0              score_3         0.333319\n",
       "1              score_4        -0.015950\n",
       "2              score_5         0.007547\n",
       "3              score_6        -0.012761\n",
       "4            risk_rate         0.485207\n",
       "5      amount_borrowed         0.820511\n",
       "6   borrowed_in_months         1.541417\n",
       "7         credit_limit         2.782305\n",
       "8               income        19.905292\n",
       "9             ok_since         0.433557\n",
       "10      n_bankruptcies         3.959583\n",
       "11   n_defaulted_loans        21.832705\n",
       "12          n_accounts         0.950040\n",
       "13            n_issues         0.949179"
      ]
     },
     "execution_count": 12,
     "metadata": {},
     "output_type": "execute_result"
    }
   ],
   "source": [
    "skew_values = skew(train_df[numerical_features], nan_policy = 'omit')\n",
    "pd.concat([pd.DataFrame(list(numerical_features), columns=['Features']), \n",
    "           pd.DataFrame(list(skew_values), columns=['Skewness degree'])], axis = 1)"
   ]
  },
  {
   "cell_type": "code",
   "execution_count": 13,
   "metadata": {
    "collapsed": true
   },
   "outputs": [],
   "source": [
    "# This is imputer function for binary_factor\n",
    "def num_imputer(train_df, test_df, feature):\n",
    "    imp_num = Imputer( missing_values=np.nan, strategy='median')\n",
    "    train_df[feature] = imp_num.fit_transform(train_df[[feature]])\n",
    "    test_df[feature] = imp_num.transform(test_df[[feature]])"
   ]
  },
  {
   "cell_type": "code",
   "execution_count": 14,
   "metadata": {
    "collapsed": true
   },
   "outputs": [],
   "source": [
    "num_feture = ['score_3', 'score_4', 'score_5', 'score_6', 'risk_rate',\n",
    "       'amount_borrowed', 'borrowed_in_months', 'credit_limit', 'income',\n",
    "       'ok_since', 'n_bankruptcies', 'n_defaulted_loans', 'n_accounts',\n",
    "       'n_issues']\n",
    "for each in num_feture:\n",
    "    num_imputer(train_df, test_df, each)"
   ]
  },
  {
   "cell_type": "markdown",
   "metadata": {},
   "source": [
    "    - 'n_defaulted_loans' and 'income' are highly skewed\n",
    "    -  missing_values are filled with median_value of the column"
   ]
  },
  {
   "cell_type": "markdown",
   "metadata": {},
   "source": [
    "## Categorical and Date features handling"
   ]
  },
  {
   "cell_type": "code",
   "execution_count": 15,
   "metadata": {},
   "outputs": [
    {
     "data": {
      "text/plain": [
       "Index(['ids', 'default', 'score_1', 'score_2', 'reason', 'sign', 'gender',\n",
       "       'facebook_profile', 'last_payment', 'end_last_loan', 'state', 'zip',\n",
       "       'channel', 'job_name', 'real_state'],\n",
       "      dtype='object')"
      ]
     },
     "execution_count": 15,
     "metadata": {},
     "output_type": "execute_result"
    }
   ],
   "source": [
    "categorical_features"
   ]
  },
  {
   "cell_type": "markdown",
   "metadata": {},
   "source": [
    "### gender "
   ]
  },
  {
   "cell_type": "code",
   "execution_count": 16,
   "metadata": {},
   "outputs": [
    {
     "data": {
      "text/plain": [
       "<matplotlib.axes._subplots.AxesSubplot at 0x2025ee37240>"
      ]
     },
     "execution_count": 16,
     "metadata": {},
     "output_type": "execute_result"
    },
    {
     "data": {
      "image/png": "[encoded data removed]",
      "text/plain": [
       "<matplotlib.figure.Figure at 0x2025f0e6fd0>"
      ]
     },
     "metadata": {},
     "output_type": "display_data"
    }
   ],
   "source": [
    "var = 'gender'\n",
    "plt.hist(train_df[var])\n",
    "sns.countplot(x = var, data = train_df, hue='default')"
   ]
  },
  {
   "cell_type": "code",
   "execution_count": 17,
   "metadata": {},
   "outputs": [
    {
     "name": "stdout",
     "output_type": "stream",
     "text": [
      " Number of missing values gender: 2996\n",
      " defaulter- 1: 498\n",
      " none defaulter - 0: 2498\n"
     ]
    }
   ],
   "source": [
    "print(' Number of missing values gender:', len(train_df[(train_df.gender != 'f') &  (train_df.gender != 'm')]))\n",
    "print(' defaulter- 1:', (train_df[(train_df.gender != 'f') &  (train_df.gender != 'm')]['default'] == 1).sum())\n",
    "print(' none defaulter - 0:', (train_df[(train_df.gender != 'f') &  (train_df.gender != 'm')]['default'] == 0).sum())"
   ]
  },
  {
   "cell_type": "code",
   "execution_count": 18,
   "metadata": {},
   "outputs": [
    {
     "name": "stdout",
     "output_type": "stream",
     "text": [
      "male defaulter count: 14.453074265527183\n",
      "female defaulter count: 18.66507876360093\n"
     ]
    }
   ],
   "source": [
    "# How many defaulters in male gender \n",
    "print('male defaulter count:', ((train_df[train_df.gender == 'm']['default'] == 1).sum()/len(train_df[train_df.gender == 'm'])*100))\n",
    "#print('male none-defaulter count:', (train_df[train_df.gender == 'm']['default'] == 0).sum())\n",
    "print('female defaulter count:', ((train_df[train_df.gender == 'f']['default'] == 1).sum()/len(train_df[train_df.gender == 'f'])*100))\n",
    "#print('female none-defaulter count:', (train_df[train_df.gender == 'f']['default'] == 0).sum())"
   ]
  },
  {
   "cell_type": "markdown",
   "metadata": {},
   "source": [
    "Quick notes:-\n",
    "    - Approx. 500 of the defaulters belong to unknown gender class\n",
    "    - female defaulter percentage is higher than male defaulter class\n",
    "    - As a standard rule, decording all unknown gender to 'm' class"
   ]
  },
  {
   "cell_type": "code",
   "execution_count": 19,
   "metadata": {
    "collapsed": true
   },
   "outputs": [],
   "source": [
    "def gender_tran(df):\n",
    "    x = df['gender'].map({'m':1, 'f':0})\n",
    "    return x\n",
    "train_df.gender = gender_tran(train_df)\n",
    "test_df.gender  = gender_tran(test_df)"
   ]
  },
  {
   "cell_type": "code",
   "execution_count": 20,
   "metadata": {
    "collapsed": true
   },
   "outputs": [],
   "source": [
    "# This is imputer function for binary_factor\n",
    "def imputer(train_df, test_df, feature):\n",
    "    imp_freq = Imputer( missing_values=np.nan, strategy='most_frequent')\n",
    "    train_df[feature] = imp_freq.fit_transform(train_df[[feature]])\n",
    "    test_df[feature] = imp_freq.transform(test_df[[feature]])"
   ]
  },
  {
   "cell_type": "code",
   "execution_count": 21,
   "metadata": {
    "collapsed": true
   },
   "outputs": [],
   "source": [
    "# call Imputer\n",
    "imputer(train_df, test_df, 'gender')"
   ]
  },
  {
   "cell_type": "markdown",
   "metadata": {},
   "source": [
    "### facebook_profile"
   ]
  },
  {
   "cell_type": "code",
   "execution_count": 22,
   "metadata": {
    "collapsed": true
   },
   "outputs": [],
   "source": [
    "def fp_tran(df):\n",
    "    x = df['facebook_profile'].map({True:1, False:0})\n",
    "    return x\n",
    "train_df.facebook_profile = fp_tran(train_df)\n",
    "test_df.facebook_profile  = fp_tran(test_df)"
   ]
  },
  {
   "cell_type": "code",
   "execution_count": 23,
   "metadata": {},
   "outputs": [
    {
     "name": "stdout",
     "output_type": "stream",
     "text": [
      " Number of missing values facebook_profile: 5971\n",
      " defaulter- 1: 947\n",
      " none defaulter - 0: 5024\n"
     ]
    }
   ],
   "source": [
    "print(' Number of missing values facebook_profile:', len(train_df[(train_df.facebook_profile != 1.0) &  (train_df.facebook_profile != 0)]))\n",
    "print(' defaulter- 1:', (train_df[(train_df.facebook_profile != 1.0) &  (train_df.facebook_profile != 0)]['default'] == 1).sum())\n",
    "print(' none defaulter - 0:', (train_df[(train_df.facebook_profile != 1.0) &  (train_df.facebook_profile != 0)]['default'] == 0).sum())"
   ]
  },
  {
   "cell_type": "code",
   "execution_count": 24,
   "metadata": {},
   "outputs": [
    {
     "data": {
      "text/plain": [
       "<matplotlib.axes._subplots.AxesSubplot at 0x2025efcf6d8>"
      ]
     },
     "execution_count": 24,
     "metadata": {},
     "output_type": "execute_result"
    },
    {
     "data": {
      "image/png": "[encoded data removed]",
      "text/plain": [
       "<matplotlib.figure.Figure at 0x2025ee689b0>"
      ]
     },
     "metadata": {},
     "output_type": "display_data"
    }
   ],
   "source": [
    "var = 'facebook_profile'\n",
    "sns.countplot(x = var, data = train_df, hue='default')"
   ]
  },
  {
   "cell_type": "code",
   "execution_count": 25,
   "metadata": {
    "collapsed": true
   },
   "outputs": [],
   "source": [
    "# call Imputer\n",
    "imputer(train_df, test_df, 'facebook_profile')"
   ]
  },
  {
   "cell_type": "markdown",
   "metadata": {},
   "source": [
    "### sign"
   ]
  },
  {
   "cell_type": "code",
   "execution_count": 26,
   "metadata": {},
   "outputs": [
    {
     "data": {
      "text/plain": [
       "<matplotlib.axes._subplots.AxesSubplot at 0x2025fa64710>"
      ]
     },
     "execution_count": 26,
     "metadata": {},
     "output_type": "execute_result"
    },
    {
     "data": {
      "image/png": "[encoded data removed]",
      "text/plain": [
       "<matplotlib.figure.Figure at 0x2025ee240b8>"
      ]
     },
     "metadata": {},
     "output_type": "display_data"
    }
   ],
   "source": [
    "var = 'sign'\n",
    "plt.figure(figsize=(20,5))\n",
    "sns.countplot(x = var, data = train_df, hue='default', orient=90)"
   ]
  },
  {
   "cell_type": "code",
   "execution_count": 27,
   "metadata": {},
   "outputs": [
    {
     "name": "stdout",
     "output_type": "stream",
     "text": [
      "virg --> defaulter count: 8.401\n",
      "sagi --> defaulter count: 64.622\n",
      "libr --> defaulter count: 8.277\n",
      "nan --> defaulter count: 0.0\n",
      "capr --> defaulter count: 17.14\n",
      "arie --> defaulter count: 15.796\n",
      "pisce --> defaulter count: 16.076\n",
      "cance --> defaulter count: 8.572\n",
      "scor --> defaulter count: 15.367\n",
      "aqua --> defaulter count: 15.921\n",
      "gemi --> defaulter count: 28.322\n",
      "leo --> defaulter count: 27.06\n",
      "taur --> defaulter count: 47.752\n"
     ]
    }
   ],
   "source": [
    "def sign_defaulter_per(df, feature, value):\n",
    "    rec_len = len(df[df[feature] == value])\n",
    "    if rec_len < 1:\n",
    "        rec_len = 1\n",
    "    print('{} --> '.format(value), end= '')\n",
    "    print('defaulter count:', round(((df[df[feature] == value]['default'] == 1).sum()/rec_len*100),3))\n",
    "    \n",
    "sign_list = train_df.sign.unique()\n",
    "for each in sign_list:\n",
    "    sign_defaulter_per(train_df, 'sign', each)"
   ]
  },
  {
   "cell_type": "code",
   "execution_count": 28,
   "metadata": {
    "collapsed": true,
    "scrolled": true
   },
   "outputs": [],
   "source": [
    "# Imputer done\n",
    "var = 'sign'\n",
    "value = train_df[var].value_counts().index[0]\n",
    "train_df[var].fillna(value, inplace = True, axis = 0)\n",
    "test_df[var].fillna(value, inplace = True, axis = 0)"
   ]
  },
  {
   "cell_type": "markdown",
   "metadata": {},
   "source": [
    "quick notes:\n",
    "        - virg, libr, cancer have large population\n",
    "        - sagi, taur have relatively low population \n",
    "        - All levels are retained for, all of them all default categories > 5 %\n",
    "        - Filling NaN with most frequent values in sign\n",
    "        - Later, dummy encoding is required"
   ]
  },
  {
   "cell_type": "markdown",
   "metadata": {},
   "source": [
    "### 'score_1', 'reason','score_2', 'state','zip','channel','job_name','real_state'"
   ]
  },
  {
   "cell_type": "code",
   "execution_count": 29,
   "metadata": {
    "collapsed": true
   },
   "outputs": [],
   "source": [
    "features_varLen = ['score_1', 'reason','score_2', 'state','zip','channel','job_name','real_state']\n",
    "# filling 'NaN's' with most_frequent value in the column\n",
    "\n",
    "for var in features_varLen:\n",
    "    value = train_df[var].value_counts().index[0]\n",
    "    train_df[var].fillna(value, inplace = True, axis = 0)\n",
    "    test_df[var].fillna(value, inplace = True, axis = 0)"
   ]
  },
  {
   "cell_type": "code",
   "execution_count": 30,
   "metadata": {
    "collapsed": true
   },
   "outputs": [],
   "source": [
    "def extract_length(records):\n",
    "    feature_len = [len(x) for x in records]\n",
    "    return feature_len"
   ]
  },
  {
   "cell_type": "code",
   "execution_count": 32,
   "metadata": {
    "collapsed": true,
    "scrolled": true
   },
   "outputs": [],
   "source": [
    "train_df[features_varLen] = train_df[features_varLen].apply(lambda x: extract_length(x))"
   ]
  },
  {
   "cell_type": "code",
   "execution_count": 39,
   "metadata": {},
   "outputs": [
    {
     "data": {
      "text/html": [
       "<div>\n",
       "<style>\n",
       "    .dataframe thead tr:only-child th {\n",
       "        text-align: right;\n",
       "    }\n",
       "\n",
       "    .dataframe thead th {\n",
       "        text-align: left;\n",
       "    }\n",
       "\n",
       "    .dataframe tbody tr th {\n",
       "        vertical-align: top;\n",
       "    }\n",
       "</style>\n",
       "<table border=\"1\" class=\"dataframe\">\n",
       "  <thead>\n",
       "    <tr style=\"text-align: right;\">\n",
       "      <th></th>\n",
       "      <th>score_1</th>\n",
       "      <th>reason</th>\n",
       "      <th>score_2</th>\n",
       "      <th>state</th>\n",
       "      <th>zip</th>\n",
       "      <th>channel</th>\n",
       "      <th>job_name</th>\n",
       "      <th>real_state</th>\n",
       "    </tr>\n",
       "  </thead>\n",
       "  <tbody>\n",
       "    <tr>\n",
       "      <th>0</th>\n",
       "      <td>24</td>\n",
       "      <td>128</td>\n",
       "      <td>24</td>\n",
       "      <td>24</td>\n",
       "      <td>24</td>\n",
       "      <td>24</td>\n",
       "      <td>108</td>\n",
       "      <td>24</td>\n",
       "    </tr>\n",
       "    <tr>\n",
       "      <th>1</th>\n",
       "      <td>24</td>\n",
       "      <td>128</td>\n",
       "      <td>24</td>\n",
       "      <td>24</td>\n",
       "      <td>24</td>\n",
       "      <td>24</td>\n",
       "      <td>108</td>\n",
       "      <td>24</td>\n",
       "    </tr>\n",
       "    <tr>\n",
       "      <th>2</th>\n",
       "      <td>24</td>\n",
       "      <td>128</td>\n",
       "      <td>24</td>\n",
       "      <td>24</td>\n",
       "      <td>24</td>\n",
       "      <td>24</td>\n",
       "      <td>108</td>\n",
       "      <td>24</td>\n",
       "    </tr>\n",
       "    <tr>\n",
       "      <th>3</th>\n",
       "      <td>24</td>\n",
       "      <td>128</td>\n",
       "      <td>24</td>\n",
       "      <td>24</td>\n",
       "      <td>24</td>\n",
       "      <td>24</td>\n",
       "      <td>108</td>\n",
       "      <td>24</td>\n",
       "    </tr>\n",
       "    <tr>\n",
       "      <th>4</th>\n",
       "      <td>24</td>\n",
       "      <td>128</td>\n",
       "      <td>24</td>\n",
       "      <td>24</td>\n",
       "      <td>24</td>\n",
       "      <td>24</td>\n",
       "      <td>108</td>\n",
       "      <td>24</td>\n",
       "    </tr>\n",
       "    <tr>\n",
       "      <th>5</th>\n",
       "      <td>24</td>\n",
       "      <td>128</td>\n",
       "      <td>24</td>\n",
       "      <td>24</td>\n",
       "      <td>24</td>\n",
       "      <td>24</td>\n",
       "      <td>108</td>\n",
       "      <td>24</td>\n",
       "    </tr>\n",
       "    <tr>\n",
       "      <th>6</th>\n",
       "      <td>24</td>\n",
       "      <td>128</td>\n",
       "      <td>24</td>\n",
       "      <td>24</td>\n",
       "      <td>24</td>\n",
       "      <td>24</td>\n",
       "      <td>108</td>\n",
       "      <td>24</td>\n",
       "    </tr>\n",
       "    <tr>\n",
       "      <th>7</th>\n",
       "      <td>24</td>\n",
       "      <td>128</td>\n",
       "      <td>24</td>\n",
       "      <td>24</td>\n",
       "      <td>24</td>\n",
       "      <td>24</td>\n",
       "      <td>108</td>\n",
       "      <td>24</td>\n",
       "    </tr>\n",
       "    <tr>\n",
       "      <th>8</th>\n",
       "      <td>24</td>\n",
       "      <td>128</td>\n",
       "      <td>24</td>\n",
       "      <td>24</td>\n",
       "      <td>24</td>\n",
       "      <td>24</td>\n",
       "      <td>108</td>\n",
       "      <td>24</td>\n",
       "    </tr>\n",
       "    <tr>\n",
       "      <th>9</th>\n",
       "      <td>24</td>\n",
       "      <td>128</td>\n",
       "      <td>24</td>\n",
       "      <td>24</td>\n",
       "      <td>24</td>\n",
       "      <td>24</td>\n",
       "      <td>108</td>\n",
       "      <td>24</td>\n",
       "    </tr>\n",
       "  </tbody>\n",
       "</table>\n",
       "</div>"
      ],
      "text/plain": [
       "   score_1  reason  score_2  state  zip  channel  job_name  real_state\n",
       "0       24     128       24     24   24       24       108          24\n",
       "1       24     128       24     24   24       24       108          24\n",
       "2       24     128       24     24   24       24       108          24\n",
       "3       24     128       24     24   24       24       108          24\n",
       "4       24     128       24     24   24       24       108          24\n",
       "5       24     128       24     24   24       24       108          24\n",
       "6       24     128       24     24   24       24       108          24\n",
       "7       24     128       24     24   24       24       108          24\n",
       "8       24     128       24     24   24       24       108          24\n",
       "9       24     128       24     24   24       24       108          24"
      ]
     },
     "execution_count": 39,
     "metadata": {},
     "output_type": "execute_result"
    }
   ],
   "source": [
    "train_df[features_varLen].head(10)"
   ]
  },
  {
   "cell_type": "markdown",
   "metadata": {
    "collapsed": true
   },
   "source": [
    "Quick notes:-\n",
    "    - Length of the encoded values are same for each features.\n",
    "    - Drop these features, for they are not holding any significance now"
   ]
  },
  {
   "cell_type": "markdown",
   "metadata": {},
   "source": [
    "### last_payment and end_last_loan\n",
    "\n",
    "- creating new feature - date_diff_bt_loanEnd_lastPayment"
   ]
  },
  {
   "cell_type": "code",
   "execution_count": 35,
   "metadata": {
    "collapsed": true
   },
   "outputs": [],
   "source": [
    "var = 'end_last_loan'\n",
    "value = train_df[var].value_counts().index[0]\n",
    "train_df[var].fillna(value, inplace = True, axis = 0)\n",
    "test_df[var].fillna(value, inplace = True, axis = 0)"
   ]
  },
  {
   "cell_type": "code",
   "execution_count": 36,
   "metadata": {
    "collapsed": true
   },
   "outputs": [],
   "source": [
    "var = 'last_payment'\n",
    "value = train_df[var].value_counts().index[0]\n",
    "train_df[var].fillna(value, inplace = True, axis = 0)\n",
    "test_df[var].fillna(value, inplace = True, axis = 0)"
   ]
  },
  {
   "cell_type": "code",
   "execution_count": 37,
   "metadata": {
    "collapsed": true
   },
   "outputs": [],
   "source": [
    "def cal_date(df):\n",
    "    final_date = []\n",
    "    date_format = \"%Y-%m-%d\"\n",
    "    \n",
    "    for d1, d2 in zip(df.last_payment, df.end_last_loan):\n",
    "        delta = datetime.strptime(d2, date_format) - datetime.strptime(d1, date_format)\n",
    "        final_date.append(delta.days)\n",
    "    return final_date\n",
    "\n",
    "train_df['date_diff_bt_loanEnd_lastPayment'] = cal_date(train_df)\n",
    "test_df['date_diff_bt_loanEnd_lastPayment'] = cal_date(test_df)"
   ]
  },
  {
   "cell_type": "markdown",
   "metadata": {},
   "source": [
    "#### Hypotheis -\n",
    "N0 - Has the defaulter paid loan much later after last_loan_payment_date"
   ]
  },
  {
   "cell_type": "code",
   "execution_count": 38,
   "metadata": {},
   "outputs": [
    {
     "data": {
      "text/plain": [
       "<matplotlib.legend.Legend at 0x2025fb4fef0>"
      ]
     },
     "execution_count": 38,
     "metadata": {},
     "output_type": "execute_result"
    },
    {
     "data": {
      "image/png": "[encoded data removed]",
      "text/plain": [
       "<matplotlib.figure.Figure at 0x202605af4e0>"
      ]
     },
     "metadata": {},
     "output_type": "display_data"
    }
   ],
   "source": [
    "default = train_df[train_df.default == 1]['date_diff_bt_loanEnd_lastPayment']\n",
    "non_default = train_df[train_df.default == 0]['date_diff_bt_loanEnd_lastPayment']\n",
    "bins_ = np.linspace(-1673, 3287, 40)\n",
    "\n",
    "plt.hist(default, bins = bins_, normed=True, alpha = 0.1, label = 'Default')\n",
    "plt.hist(non_default, bins = bins_, normed=True, alpha = 0.2, label = 'None-Default')\n",
    "plt.legend()"
   ]
  },
  {
   "cell_type": "markdown",
   "metadata": {},
   "source": [
    "Quick notes:-\n",
    "    - positive values indicates how many days after end_last_loan date, last_payment has been done.\n",
    "    - None defaulters have mostly cleared loan amount on last_loan_day\n",
    "    - Defaulters have done payment much later after end_last_loan date\n",
    "    - 'date_diff_bt_loanEnd_lastPayment' seems to be an important features \n",
    "    - 'last_payment' and 'end_loan_last' will be dropped from dataset\n",
    "    "
   ]
  }
 ],
 "metadata": {
  "kernelspec": {
   "display_name": "Python 3",
   "language": "python",
   "name": "python3"
  },
  "language_info": {
   "codemirror_mode": {
    "name": "ipython",
    "version": 3
   },
   "file_extension": ".py",
   "mimetype": "text/x-python",
   "name": "python",
   "nbconvert_exporter": "python",
   "pygments_lexer": "ipython3",
   "version": "3.6.3"
  }
 },
 "nbformat": 4,
 "nbformat_minor": 2
}
